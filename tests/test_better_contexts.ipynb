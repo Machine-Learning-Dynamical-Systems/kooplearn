{
 "cells": [
  {
   "cell_type": "code",
   "execution_count": 1,
   "metadata": {
    "ExecuteTime": {
     "end_time": "2024-03-06T13:41:45.343557Z",
     "start_time": "2024-03-06T13:41:45.328290Z"
    }
   },
   "outputs": [],
   "source": [
    "%load_ext autoreload\n",
    "%autoreload 2"
   ]
  },
  {
   "cell_type": "code",
   "execution_count": 49,
   "metadata": {
    "ExecuteTime": {
     "end_time": "2024-03-06T13:41:48.432907Z",
     "start_time": "2024-03-06T13:41:45.908597Z"
    }
   },
   "outputs": [],
   "source": [
    "from kooplearn.abc import ContextWindow, ContextWindowDataset\n",
    "from kooplearn.data import TensorContextDataset, TrajectoryContextDataset, multi_traj_to_context\n",
    "\n",
    "import numpy as np\n",
    "import torch"
   ]
  },
  {
   "cell_type": "code",
   "execution_count": 50,
   "metadata": {
    "ExecuteTime": {
     "end_time": "2024-03-06T13:41:49.003853Z",
     "start_time": "2024-03-06T13:41:48.965505Z"
    }
   },
   "outputs": [],
   "source": [
    "traj_np = np.arange(20)\n",
    "traj_torch = [torch.arange(20) for _ in range(10)]\n",
    "observables = [{\n",
    "    \"rand1\": torch.rand(20, 50 ,2)\n",
    "} for _ in range(10)]"
   ]
  },
  {
   "cell_type": "code",
   "execution_count": 51,
   "metadata": {
    "ExecuteTime": {
     "end_time": "2024-03-06T13:41:49.282448Z",
     "start_time": "2024-03-06T13:41:49.247733Z"
    }
   },
   "outputs": [],
   "source": [
    "ctx = multi_traj_to_context(traj_torch, observables=observables, context_window_len=2)"
   ]
  },
  {
   "cell_type": "code",
   "execution_count": 54,
   "metadata": {},
   "outputs": [
    {
     "name": "stdout",
     "output_type": "stream",
     "text": [
      "rand1 -> torch.Size([190, 2, 50, 2])\n",
      "__idxmap__ -> torch.Size([190, 2, 1])\n"
     ]
    }
   ],
   "source": [
    "for k in ctx.observables.keys():\n",
    "    print(f\"{k} -> {ctx.observables[k].shape}\")"
   ]
  }
 ],
 "metadata": {
  "kernelspec": {
   "display_name": "kooplearn",
   "language": "python",
   "name": "python3"
  },
  "language_info": {
   "codemirror_mode": {
    "name": "ipython",
    "version": 3
   },
   "file_extension": ".py",
   "mimetype": "text/x-python",
   "name": "python",
   "nbconvert_exporter": "python",
   "pygments_lexer": "ipython3",
   "version": "3.11.4"
  }
 },
 "nbformat": 4,
 "nbformat_minor": 2
}
