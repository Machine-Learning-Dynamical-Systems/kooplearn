{
 "cells": [
  {
   "cell_type": "markdown",
   "metadata": {},
   "source": [
    "# Testing DynamicalAEs on the Ordered MNIST example"
   ]
  },
  {
   "cell_type": "code",
   "execution_count": 1,
   "metadata": {},
   "outputs": [],
   "source": [
    "%load_ext autoreload"
   ]
  },
  {
   "cell_type": "code",
   "execution_count": 2,
   "metadata": {},
   "outputs": [],
   "source": [
    "#Configs\n",
    "import ml_confs as mlcfg\n",
    "configs = mlcfg.from_file('configs.yaml', register_jax_pytree=False)"
   ]
  },
  {
   "cell_type": "code",
   "execution_count": 3,
   "metadata": {},
   "outputs": [],
   "source": [
    "#Data pipeline\n",
    "from datasets import load_from_disk\n",
    "ordered_MNIST = load_from_disk('__data__')\n",
    "#Creating a copy of the dataset in numpy format\n",
    "np_ordered_MNIST = ordered_MNIST.with_format(type='numpy', columns=['image', 'label'])"
   ]
  },
  {
   "cell_type": "code",
   "execution_count": 14,
   "metadata": {},
   "outputs": [],
   "source": [
    "import torch.nn as nn\n",
    "import torch\n",
    "\n",
    "#Setting up the architecture\n",
    "class CNNEncoder(nn.Module):\n",
    "    def __init__(self, num_classes):\n",
    "        super(CNNEncoder, self).__init__()\n",
    "        self.conv1 = nn.Sequential(         \n",
    "            nn.Conv2d(\n",
    "                in_channels=1,              \n",
    "                out_channels=16,            \n",
    "                kernel_size=5,              \n",
    "                stride=1,                   \n",
    "                padding=2,                  \n",
    "            ),                              \n",
    "            nn.ReLU(),                      \n",
    "            nn.MaxPool2d(kernel_size=2),    \n",
    "        )\n",
    "        self.conv2 = nn.Sequential(         \n",
    "            nn.Conv2d(16, 32, 5, 1, 2),     \n",
    "            nn.ReLU(),                      \n",
    "            nn.MaxPool2d(2),                \n",
    "        )\n",
    "        # fully connected layer, output num_classes classes\n",
    "        self.out = nn.Sequential(\n",
    "            nn.Linear(32 * 7 * 7, num_classes)\n",
    "        )  \n",
    "        torch.nn.init.orthogonal_(self.out[0].weight)      \n",
    "    \n",
    "    def forward(self, X):\n",
    "        if X.dim() == 3:\n",
    "            X = X.unsqueeze(1) # Add a channel dimension if needed\n",
    "        X = self.conv1(X)\n",
    "        X = self.conv2(X)\n",
    "        # Flatten the output of conv2\n",
    "        X = X.view(X.size(0), -1)       \n",
    "        output = self.out(X)\n",
    "        return output\n",
    "    \n",
    "#A decoder which is specular to CNNEncoder, starting with a fully connected layer and then reshaping the output to a 2D image\n",
    "class CNNDecoder(nn.Module):\n",
    "    def __init__(self, num_classes=10):\n",
    "        super(CNNDecoder, self).__init__()\n",
    "        self.fc = nn.Sequential(\n",
    "            nn.Linear(num_classes, 32 * 7 * 7)\n",
    "        )\n",
    "        \n",
    "        self.conv1 = nn.Sequential(  \n",
    "            nn.Upsample(scale_factor=2),\n",
    "            nn.ReLU(),   \n",
    "            nn.ConvTranspose2d(\n",
    "                in_channels=32,              \n",
    "                out_channels=16,            \n",
    "                kernel_size=5,              \n",
    "                stride=1,                   \n",
    "                padding=2,                  \n",
    "            )                            \n",
    "        )\n",
    "        self.conv2 = nn.Sequential(\n",
    "            nn.Upsample(scale_factor=2),\n",
    "            nn.ReLU(),                               \n",
    "            nn.ConvTranspose2d(16, 1, 5, 1, 2)                \n",
    "        )\n",
    "    def forward(self, x):\n",
    "        x = self.fc(x)\n",
    "        x = x.view(x.size(0), 32, 7, 7)\n",
    "        x = self.conv1(x)\n",
    "        x = self.conv2(x)\n",
    "        #Remove the channel dimension\n",
    "        x = x.squeeze(1)\n",
    "        return x"
   ]
  },
  {
   "cell_type": "code",
   "execution_count": 15,
   "metadata": {},
   "outputs": [],
   "source": [
    "from kooplearn.abc import TrainableFeatureMap\n",
    "\n",
    "import os\n",
    "from pathlib import Path\n",
    "from typing import Optional\n",
    "import logging\n",
    "import pickle\n",
    "\n",
    "import lightning\n",
    "import numpy as np\n",
    "\n",
    "#Following kooplearn implementations, we define a Pytorch Lightning module and then wrap it in a TrainableFeatureMap\n",
    "class ClassifierModule(lightning.LightningModule):\n",
    "    def __init__(self, num_classes: int, learning_rate: float):\n",
    "        super().__init__()\n",
    "        self.num_classes = num_classes\n",
    "        self.encoder = CNNEncoder(num_classes=num_classes)\n",
    "        self.learning_rate = learning_rate\n",
    "        self.loss_fn = torch.nn.CrossEntropyLoss()\n",
    "\n",
    "        # Set up storage for metrics\n",
    "        self.train_acc = []\n",
    "        self.train_steps = []\n",
    "        self.val_acc = []\n",
    "        self.val_steps = []\n",
    "    \n",
    "    def on_fit_start(self):\n",
    "        self.train_acc = []\n",
    "        self.train_steps = []\n",
    "        self.val_acc = []\n",
    "        self.val_steps = []\n",
    "\n",
    "    def configure_optimizers(self):\n",
    "        optimizer = torch.optim.Adam(self.parameters(), lr = self.learning_rate)\n",
    "        return optimizer\n",
    "    \n",
    "    def training_step(self, batch, batch_idx):\n",
    "        images, labels = batch['image'], batch['label']\n",
    "        output = self.encoder(images)               \n",
    "        loss = self.loss_fn(output, labels)\n",
    "        with torch.no_grad():\n",
    "            pred_labels = output.argmax(dim=1)\n",
    "            accuracy = (pred_labels == labels).float().mean()\n",
    "        \n",
    "        #Log metrics\n",
    "        self.train_acc.append(accuracy.item())\n",
    "        self.train_steps.append(self.global_step)\n",
    "        \n",
    "        return {'loss': loss, 'train/accuracy': accuracy}\n",
    "    \n",
    "    def validation_step(self, batch, batch_idx):\n",
    "        images, labels = batch['image'], batch['label']\n",
    "        output = self.encoder(images)  \n",
    "        pred_labels = output.argmax(dim=1)\n",
    "        accuracy = (pred_labels == labels).float().mean() # Scalar\n",
    "\n",
    "        self.val_acc.append(accuracy.item())\n",
    "        self.val_steps.append(self.global_step)\n",
    "\n",
    "        return {'val/accuracy': accuracy}\n",
    "    \n",
    "class ClassifierFeatureMap(TrainableFeatureMap):\n",
    "    def __init__(\n",
    "                self, \n",
    "                num_classes: int,\n",
    "                learning_rate: float,\n",
    "                trainer: lightning.Trainer,\n",
    "                seed: Optional[int] = None  \n",
    "                ):\n",
    "        #Set rng seed\n",
    "        lightning.seed_everything(seed)\n",
    "        self.seed = seed\n",
    "        self.lightning_module = ClassifierModule(num_classes, learning_rate)\n",
    "        \n",
    "        #Init trainer\n",
    "        self.lightning_trainer = trainer\n",
    "        self._is_fitted = False\n",
    "        \n",
    "    @property\n",
    "    def is_fitted(self) -> bool:\n",
    "        return self._is_fitted\n",
    "    \n",
    "    @property\n",
    "    def lookback_len(self) -> int:\n",
    "        return 1 #Hardcoding it here, as we are not using lookback windows\n",
    "    \n",
    "    #Not tested\n",
    "    def save(self, path: os.PathLike):\n",
    "        path = Path(path)\n",
    "        path.mkdir(parents=True, exist_ok=True)\n",
    "        #Save the trainer\n",
    "        torch.save(self.lightning_trainer, path / 'lightning_trainer.bin')\n",
    "        #Save the lightning checkpoint\n",
    "        ckpt = path / 'lightning.ckpt'\n",
    "        self.lightning_trainer.save_checkpoint(str(ckpt))\n",
    "        del self.lightning_module\n",
    "        del self.lightning_trainer\n",
    "        model = path / 'kooplearn_model.pkl'\n",
    "        with open (model, 'wb') as f:\n",
    "            pickle.dump(self, f)  \n",
    "    \n",
    "    #Not tested\n",
    "    @classmethod\n",
    "    def load(cls, path: os.PathLike):\n",
    "        path = Path(path)\n",
    "        trainer = torch.load(path / 'lightning_trainer.bin')\n",
    "        ckpt = path / 'lightning.ckpt'\n",
    "        with open(path / 'kooplearn_model.pkl', 'rb') as f:\n",
    "            restored_obj = pickle.load(f)\n",
    "        assert isinstance(restored_obj, cls)\n",
    "        restored_obj.lightning_trainer = trainer\n",
    "        restored_obj.lightning_module = ClassifierModule.load_from_checkpoint(str(ckpt))\n",
    "        return restored_obj\n",
    "\n",
    "    def fit(self, **trainer_fit_kwargs: dict):\n",
    "        if 'model' in trainer_fit_kwargs:\n",
    "            logging.warn(\"The 'model' keyword should not be specified in trainer_fit_kwargs. The model is automatically set to the DPNet feature map, and the provided model is ignored.\")\n",
    "            trainer_fit_kwargs = trainer_fit_kwargs.copy()\n",
    "            del trainer_fit_kwargs['model']\n",
    "        self.lightning_trainer.fit(model=self.lightning_module, **trainer_fit_kwargs)\n",
    "        self._is_fitted = True\n",
    "\n",
    "    def __call__(self, X: np.ndarray) -> np.ndarray:\n",
    "        X = torch.from_numpy(X).float()\n",
    "        X.to(self.lightning_module.device)\n",
    "        self.lightning_module.eval()\n",
    "        with torch.no_grad():\n",
    "            embedded_X = self.lightning_module.encoder(X)\n",
    "            embedded_X = embedded_X.detach().cpu().numpy()\n",
    "        return embedded_X"
   ]
  },
  {
   "cell_type": "code",
   "execution_count": 16,
   "metadata": {},
   "outputs": [
    {
     "name": "stderr",
     "output_type": "stream",
     "text": [
      "GPU available: True (cuda), used: True\n",
      "TPU available: False, using: 0 TPU cores\n",
      "IPU available: False, using: 0 IPUs\n",
      "HPU available: False, using: 0 HPUs\n",
      "Global seed set to 0\n"
     ]
    },
    {
     "name": "stderr",
     "output_type": "stream",
     "text": [
      "LOCAL_RANK: 0 - CUDA_VISIBLE_DEVICES: [0,1]\n",
      "\n",
      "  | Name    | Type             | Params\n",
      "---------------------------------------------\n",
      "0 | encoder | CNNEncoder       | 21.1 K\n",
      "1 | loss_fn | CrossEntropyLoss | 0     \n",
      "---------------------------------------------\n",
      "21.1 K    Trainable params\n",
      "0         Non-trainable params\n",
      "21.1 K    Total params\n",
      "0.084     Total estimated model params size (MB)\n",
      "`Trainer.fit` stopped: `max_epochs=20` reached.\n"
     ]
    }
   ],
   "source": [
    "from torch.utils.data import DataLoader\n",
    "train_dl = DataLoader(ordered_MNIST['train'], batch_size=configs.batch_size, shuffle=True)\n",
    "val_dl = DataLoader(ordered_MNIST['validation'], batch_size=len(ordered_MNIST['validation']), shuffle=False)\n",
    "        \n",
    "trainer_kwargs = {\n",
    "    'accelerator': 'gpu',\n",
    "    'max_epochs': 20,\n",
    "    'log_every_n_steps': 2,\n",
    "    'enable_progress_bar': False,\n",
    "    'devices': 1\n",
    "}\n",
    "\n",
    "trainer = lightning.Trainer(**trainer_kwargs)\n",
    "\n",
    "oracle = ClassifierFeatureMap(\n",
    "    configs.classes,\n",
    "    1e-2,\n",
    "    trainer, \n",
    "    seed=configs.rng_seed\n",
    ")\n",
    "\n",
    "import warnings\n",
    "warnings.filterwarnings(\"ignore\", \".*does not have many workers.*\") #Ignore warnings about num_workers\n",
    "\n",
    "oracle.fit(train_dataloaders=train_dl, val_dataloaders=val_dl)"
   ]
  },
  {
   "cell_type": "code",
   "execution_count": 17,
   "metadata": {},
   "outputs": [
    {
     "data": {
      "image/png": "[encoded data removed]",
      "text/plain": [
       "<Figure size 330x250 with 1 Axes>"
      ]
     },
     "metadata": {},
     "output_type": "display_data"
    }
   ],
   "source": [
    "#Checking the data\n",
    "import matplotlib.pyplot as plt\n",
    "#Set plotting styles\n",
    "import scienceplots\n",
    "plt.style.use(['nature', 'retro'])\n",
    "plt.rcParams['figure.dpi'] = 100\n",
    "plt.rcParams['font.size'] = 10\n",
    "plt.rcParams['axes.labelsize'] = 10\n",
    "plt.rcParams['xtick.labelsize'] = 9\n",
    "plt.rcParams['ytick.labelsize'] = 9\n",
    "\n",
    "fig, ax = plt.subplots(1, 1)\n",
    "ax.plot(oracle.lightning_module.train_steps, oracle.lightning_module.train_acc, label='Train')\n",
    "ax.plot(oracle.lightning_module.val_steps, oracle.lightning_module.val_acc, label='Validation')\n",
    "ax.set_xlabel('Global step')\n",
    "ax.set_ylabel('Accuracy')\n",
    "ax.legend(frameon=False)\n",
    "ax.margins(x=0)"
   ]
  },
  {
   "cell_type": "code",
   "execution_count": 18,
   "metadata": {},
   "outputs": [],
   "source": [
    "from kooplearn.abc import BaseModel\n",
    "def evaluate_model(model: BaseModel, test_data):\n",
    "    assert model.is_fitted\n",
    "    test_labels = test_data['label']\n",
    "    test_images = test_data['image']\n",
    "    test_images = np.expand_dims(test_images, 1)\n",
    "    report = {\n",
    "        'accuracy': [],\n",
    "        'label': [],\n",
    "        'image': [],\n",
    "        'times': []\n",
    "    }\n",
    "    for t in range(1, configs.eval_up_to_t + 1):\n",
    "        pred = model.predict(test_images, t=t).reshape(-1, 28 ,28)\n",
    "        pred_labels = oracle(pred)\n",
    "        pred_labels = pred_labels.argmax(axis=1)\n",
    "        accuracy = (pred_labels == (test_labels + t)%configs.classes ).mean()\n",
    "        report['accuracy'].append(accuracy)\n",
    "        report['image'].append(pred)\n",
    "        report['label'].append(pred_labels)\n",
    "        report['times'].append(t)\n",
    "    return report"
   ]
  },
  {
   "cell_type": "code",
   "execution_count": 19,
   "metadata": {},
   "outputs": [],
   "source": [
    "from kooplearn.nn.data import TrajToContextsDataset\n",
    "\n",
    "train_ds = TrajToContextsDataset(ordered_MNIST['train']['image'])\n",
    "val_ds = TrajToContextsDataset(ordered_MNIST['validation']['image'])\n",
    "\n",
    "train_dl = DataLoader(train_ds, batch_size=configs.batch_size, shuffle=True)\n",
    "val_dl = DataLoader(val_ds, batch_size=len(val_ds), shuffle=False)"
   ]
  },
  {
   "cell_type": "markdown",
   "metadata": {},
   "source": [
    "## Dynamic Auto-Encoder"
   ]
  },
  {
   "cell_type": "code",
   "execution_count": 24,
   "metadata": {},
   "outputs": [
    {
     "name": "stderr",
     "output_type": "stream",
     "text": [
      "GPU available: True (cuda), used: True\n",
      "TPU available: False, using: 0 TPU cores\n",
      "IPU available: False, using: 0 IPUs\n",
      "HPU available: False, using: 0 HPUs\n",
      "Global seed set to 0\n"
     ]
    }
   ],
   "source": [
    "%autoreload 2\n",
    "from kooplearn.models import DynamicAE\n",
    "from lightning.pytorch.callbacks import LearningRateFinder\n",
    "lr_finder = LearningRateFinder(min_lr=1e-6, max_lr=1e-2, early_stop_threshold=None)\n",
    "\n",
    "trainer_kwargs = {\n",
    "    'accelerator': 'gpu',\n",
    "    'devices': 1,\n",
    "    'max_epochs': configs.max_epochs + 200,  \n",
    "    'log_every_n_steps': 3,\n",
    "    'callbacks': [lr_finder],\n",
    "}\n",
    "trainer = lightning.Trainer(**trainer_kwargs)\n",
    "\n",
    "dae = DynamicAE(\n",
    "    CNNEncoder,\n",
    "    CNNDecoder,\n",
    "    configs.classes,\n",
    "    torch.optim.Adam, {'lr': 1e-3 },\n",
    "    trainer,\n",
    "    encoder_kwargs={'num_classes': configs.classes},\n",
    "    decoder_kwargs={'num_classes': configs.classes},\n",
    "    seed=configs.rng_seed)"
   ]
  },
  {
   "cell_type": "code",
   "execution_count": 25,
   "metadata": {},
   "outputs": [
    {
     "name": "stderr",
     "output_type": "stream",
     "text": [
      "LOCAL_RANK: 0 - CUDA_VISIBLE_DEVICES: [0,1]\n"
     ]
    },
    {
     "data": {
      "application/vnd.jupyter.widget-view+json": {
       "model_id": "f37b4927cc044c078dff967f2cf4b749",
       "version_major": 2,
       "version_minor": 0
      },
      "text/plain": [
       "Finding best initial lr:   0%|          | 0/100 [00:00<?, ?it/s]"
      ]
     },
     "metadata": {},
     "output_type": "display_data"
    },
    {
     "name": "stderr",
     "output_type": "stream",
     "text": [
      "`Trainer.fit` stopped: `max_steps=100` reached.\n",
      "Learning rate set to 0.00033113112148259105\n",
      "Restoring states from the checkpoint path at /home/novelli/kooplearn/examples/ordered_MNIST/.lr_find_c25fe811-e0ca-4cd3-8107-0d24bd3a2ea2.ckpt\n",
      "Restored all states from the checkpoint at /home/novelli/kooplearn/examples/ordered_MNIST/.lr_find_c25fe811-e0ca-4cd3-8107-0d24bd3a2ea2.ckpt\n",
      "\n",
      "  | Name    | Type       | Params\n",
      "---------------------------------------\n",
      "0 | encoder | CNNEncoder | 21.1 K\n",
      "1 | decoder | CNNDecoder | 22.6 K\n",
      "2 | _lin    | Linear     | 25    \n",
      "---------------------------------------\n",
      "43.7 K    Trainable params\n",
      "0         Non-trainable params\n",
      "43.7 K    Total params\n",
      "0.175     Total estimated model params size (MB)\n",
      "Restored all states from the checkpoint at /home/novelli/kooplearn/examples/ordered_MNIST/.lr_find_c25fe811-e0ca-4cd3-8107-0d24bd3a2ea2.ckpt\n"
     ]
    },
    {
     "data": {
      "application/vnd.jupyter.widget-view+json": {
       "model_id": "14b714a71b8b4b1c9aa2e73c7a7c7196",
       "version_major": 2,
       "version_minor": 0
      },
      "text/plain": [
       "Training: 0it [00:00, ?it/s]"
      ]
     },
     "metadata": {},
     "output_type": "display_data"
    },
    {
     "name": "stderr",
     "output_type": "stream",
     "text": [
      "`Trainer.fit` stopped: `max_epochs=400` reached.\n"
     ]
    }
   ],
   "source": [
    "dae.fit(train_dataloaders=train_dl)"
   ]
  },
  {
   "cell_type": "code",
   "execution_count": null,
   "metadata": {},
   "outputs": [],
   "source": []
  }
 ],
 "metadata": {
  "kernelspec": {
   "display_name": "kooplearn",
   "language": "python",
   "name": "python3"
  },
  "language_info": {
   "codemirror_mode": {
    "name": "ipython",
    "version": 3
   },
   "file_extension": ".py",
   "mimetype": "text/x-python",
   "name": "python",
   "nbconvert_exporter": "python",
   "pygments_lexer": "ipython3",
   "version": "3.11.5"
  },
  "orig_nbformat": 4
 },
 "nbformat": 4,
 "nbformat_minor": 2
}
