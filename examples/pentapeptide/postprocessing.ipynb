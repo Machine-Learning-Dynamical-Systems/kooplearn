{
 "cells": [
  {
   "cell_type": "code",
   "execution_count": 22,
   "metadata": {},
   "outputs": [],
   "source": [
    "from tqdm import tqdm\n",
    "import numpy as np\n",
    "import matplotlib.pyplot as plt\n",
    "import pickle\n",
    "import scipy\n",
    "\n",
    "plt.rcParams.update({\n",
    "    \"text.usetex\": True,\n",
    "    \"font.family\": \"serif\",\n",
    "    \"font.serif\": [\"Times\"],\n",
    "    \"font.size\": 9\n",
    "})"
   ]
  },
  {
   "cell_type": "code",
   "execution_count": 25,
   "metadata": {},
   "outputs": [],
   "source": [
    "results = pickle.load(open(f\"data/sample_randSVD_benchmarks.pkl\", \"rb\"))\n",
    "title = 'Pentapeptide'\n",
    "cycle = plt.rcParams['axes.prop_cycle'].by_key()['color']"
   ]
  },
  {
   "cell_type": "code",
   "execution_count": 26,
   "metadata": {},
   "outputs": [
    {
     "data": {
      "image/png": "[encoded data removed]",
      "text/plain": [
       "<Figure size 396x144 with 2 Axes>"
      ]
     },
     "metadata": {
      "needs_background": "light"
     },
     "output_type": "display_data"
    }
   ],
   "source": [
    "fig_width = 5.5 #Inches\n",
    "fig_height = 2 #Inches\n",
    "\n",
    "#Hardcoded\n",
    "n_oversamples = results['n_oversamples']\n",
    "iterated_power = results['iterated_power']\n",
    "\n",
    "fig, axes = plt.subplots(ncols=2, figsize=(fig_width, fig_height))\n",
    "\n",
    "#Plotting execution times\n",
    "ax = axes[0]\n",
    "solvers = results['solvers']\n",
    "times_avg = results['measurements']['times']['means']\n",
    "times_std = results['measurements']['times']['stds']\n",
    "sample_sizes = results['iterated_array']\n",
    "for solver_idx, solver in enumerate(solvers):\n",
    "    if solver == 'randomized':\n",
    "        label = solver.capitalize() + f\" p={iterated_power}, s={n_oversamples}\"\n",
    "    else:\n",
    "        label = solver.capitalize()\n",
    "    \n",
    "    ax.plot(sample_sizes, times_avg[solver_idx], '.-', label=label)\n",
    "    ax.fill_between(sample_sizes, (times_avg - times_std)[solver_idx], (times_avg + times_std)[solver_idx], alpha=0.5)\n",
    "    if solver ==  'arnoldi':\n",
    "        for pt_idx, pt in enumerate(sample_sizes):\n",
    "            multiplier = (times_avg[0]/times_avg[1])[pt_idx]\n",
    "            if 1 < pt_idx < len(sample_sizes) - 1:\n",
    "                pass\n",
    "                ax.text(pt,times_avg[solver_idx][pt_idx], f'{multiplier:.2f}x', ha='right')\n",
    "ax.set_ylabel(\"Execution time [s]\")\n",
    "ax.set_xlabel(\"Sample size\")\n",
    "ax.set_xmargin(0)\n",
    "#Plotting train and test errors\n",
    "ax = axes[1]\n",
    "\n",
    "training_errors_avg = results['measurements']['training_errors']['means']\n",
    "training_errors_std = results['measurements']['training_errors']['stds']\n",
    "\n",
    "test_errors_avg = results['measurements']['test_errors']['means']\n",
    "test_errors_std = results['measurements']['test_errors']['stds']\n",
    "\n",
    "for solver_idx, solver in enumerate(solvers):\n",
    "    if solver == 'randomized':\n",
    "        label = solver.capitalize() + f\" p={iterated_power}, s={n_oversamples}\"\n",
    "    else:\n",
    "        label = solver.capitalize()\n",
    "    \n",
    "    ax.plot(sample_sizes, test_errors_avg[solver_idx], '.-', color = cycle[solver_idx])\n",
    "    ax.fill_between(sample_sizes, (test_errors_avg - test_errors_std)[solver_idx], (test_errors_avg + test_errors_std)[solver_idx], alpha=0.5, color = cycle[solver_idx])\n",
    "\n",
    "ax.set_ylabel(\"Test error\")\n",
    "ax.set_xlabel(\"Sample size\")\n",
    "ax.set_xmargin(0)\n",
    "#ax.set_yscale('log')\n",
    "\n",
    "fig.legend(bbox_to_anchor=(0.15, 1, 0.7, 0.2), borderaxespad=0, loc='lower center', mode='expand', ncol=3, frameon=False)\n",
    "plt.tight_layout()\n",
    "#fig.savefig(\"figs/randomizedSVD_pentapeptide_benchmarks.pdf\",  bbox_inches='tight')\n"
   ]
  },
  {
   "cell_type": "code",
   "execution_count": null,
   "metadata": {},
   "outputs": [],
   "source": []
  }
 ],
 "metadata": {
  "kernelspec": {
   "display_name": "base",
   "language": "python",
   "name": "python3"
  },
  "language_info": {
   "codemirror_mode": {
    "name": "ipython",
    "version": 3
   },
   "file_extension": ".py",
   "mimetype": "text/x-python",
   "name": "python",
   "nbconvert_exporter": "python",
   "pygments_lexer": "ipython3",
   "version": "3.9.7"
  },
  "orig_nbformat": 4,
  "vscode": {
   "interpreter": {
    "hash": "237a184721ccde86ff8290b36768bdbffa305b80665e86389e41b56c4800747d"
   }
  }
 },
 "nbformat": 4,
 "nbformat_minor": 2
}
