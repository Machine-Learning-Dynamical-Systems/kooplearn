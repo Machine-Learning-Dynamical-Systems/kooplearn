{
 "cells": [
  {
   "cell_type": "code",
   "execution_count": 8,
   "metadata": {},
   "outputs": [],
   "source": [
    "from tqdm import tqdm\n",
    "import numpy as np\n",
    "import matplotlib.pyplot as plt\n",
    "import pickle\n",
    "import scipy\n",
    "\n",
    "from sys import path\n",
    "path.append('../../')\n",
    "from kooplearn.estimators import ReducedRank\n",
    "from kooplearn.kernels import RBF, Matern, Linear\n",
    "\n",
    "from Logistic import LogisticMap\n",
    "from Lorenz63 import Lorenz63\n",
    "from NoisyLinearSystem import NoisyLinear\n",
    "\n",
    "plt.rcParams.update({\n",
    "    \"text.usetex\": True,\n",
    "    \"font.family\": \"serif\",\n",
    "    \"font.serif\": [\"Times\"],\n",
    "    \"font.size\": 9\n",
    "})"
   ]
  },
  {
   "cell_type": "markdown",
   "metadata": {},
   "source": [
    "### Benchmarks plot"
   ]
  },
  {
   "cell_type": "code",
   "execution_count": 9,
   "metadata": {},
   "outputs": [],
   "source": [
    "data = [ pickle.load(open(f\"data/{fname}_randSVD_benchmarks.pkl\", \"rb\")) for fname in ['noisylinear']]\n",
    "titles = ['Noisy linear system']"
   ]
  },
  {
   "cell_type": "code",
   "execution_count": 12,
   "metadata": {},
   "outputs": [
    {
     "data": {
      "image/png": "[encoded data removed]",
      "text/plain": [
       "<Figure size 396x144 with 1 Axes>"
      ]
     },
     "metadata": {
      "needs_background": "light"
     },
     "output_type": "display_data"
    }
   ],
   "source": [
    "fig_width = 5.5 #Inches\n",
    "fig_height = 2 #Inches\n",
    "\n",
    "#Hardcoded\n",
    "n_oversamples = data[0]['n_oversamples']\n",
    "iterated_power = data[0]['iterated_power']\n",
    "\n",
    "fig, axes = plt.subplots(ncols=len(data), figsize=(fig_width, fig_height))\n",
    "\n",
    "for idx in range(len(data)):\n",
    "    if len(data) == 1:\n",
    "        ax = axes\n",
    "    else:\n",
    "        ax = axes[idx]\n",
    "    results = data[idx]\n",
    "    \n",
    "    solvers = results['solvers']\n",
    "    means = results['means']\n",
    "    stds = results['stds']\n",
    "    iter_arr = results['iterated_array']\n",
    "\n",
    "    for solver_idx, solver in enumerate(solvers):\n",
    "        if solver == 'randomized':\n",
    "            label = solver.capitalize() + f\" p={iterated_power}, s={n_oversamples}\"\n",
    "        else:\n",
    "            label = solver.capitalize()\n",
    "        if idx == 0:\n",
    "            ax.plot(iter_arr, means[solver_idx], '.-', label=label)\n",
    "        else:\n",
    "            ax.plot(iter_arr, means[solver_idx], '.-')\n",
    "        ax.fill_between(iter_arr, (means - stds)[solver_idx], (means + stds)[solver_idx], alpha=0.5)\n",
    "    ax.set_ylabel(\"time (s)\")\n",
    "    ax.set_xlabel(\"Sample size\")\n",
    "    ax.set_yscale('log')\n",
    "    ax.set_xscale('log')\n",
    "    ax.set_title(titles[idx])\n",
    "    ax.set_xmargin(0)\n",
    "\n",
    "fig.legend(bbox_to_anchor=(0.15, 1, 0.7, 0.2), borderaxespad=0, loc='lower center', mode='expand', ncol=3, frameon=False)\n",
    "plt.tight_layout()\n",
    "#fig.savefig(\"figs/randomizedSVD_benchmarks.pdf\",  bbox_inches='tight')"
   ]
  },
  {
   "cell_type": "markdown",
   "metadata": {},
   "source": [
    "### Estimator consistency check: Lorenz63"
   ]
  },
  {
   "cell_type": "code",
   "execution_count": 5,
   "metadata": {},
   "outputs": [],
   "source": [
    "params = {\n",
    "    #Lorenz63\n",
    "    'kernel': Linear(coef0=0),\n",
    "    'backend': 'keops',\n",
    "    'rank': 10,\n",
    "    'tikhonov_reg': 1e-5,\n",
    "    'n_oversamples': 2,\n",
    "    'iterated_power': 1\n",
    "}\n",
    "ndim = 50\n",
    "seed = 0 #Reproducibility\n",
    "random_basis_change = scipy.stats.special_ortho_group.rvs(ndim, random_state=seed)\n",
    "temperature = 0.2\n",
    "eigenvalues = 0.5*(1 - np.tanh(np.linspace(-2, 2, ndim)/temperature))\n",
    "A = random_basis_change.T.dot(np.diag(eigenvalues)).dot(random_basis_change)\n",
    "map = NoisyLinear(stability = 0.999, A = A)\n",
    "\n",
    "sample_size = 7500"
   ]
  },
  {
   "cell_type": "code",
   "execution_count": 6,
   "metadata": {},
   "outputs": [],
   "source": [
    "X, Y = map.sample(size = sample_size, scale_output=True, iid = False)"
   ]
  },
  {
   "cell_type": "code",
   "execution_count": 7,
   "metadata": {},
   "outputs": [],
   "source": [
    "rand_estimator = ReducedRank(**params, svd_solver='randomized').fit(X,Y)"
   ]
  },
  {
   "cell_type": "code",
   "execution_count": 66,
   "metadata": {},
   "outputs": [],
   "source": [
    "estimator = ReducedRank(**params, svd_solver='arnoldi').fit(X, Y)"
   ]
  },
  {
   "cell_type": "code",
   "execution_count": 45,
   "metadata": {},
   "outputs": [],
   "source": [
    "numerical_eigs = estimator.eig(left=False, right=False)\n",
    "rand_numerical_eigs = rand_estimator.eig(left=False, right=False)"
   ]
  },
  {
   "cell_type": "code",
   "execution_count": 46,
   "metadata": {},
   "outputs": [
    {
     "data": {
      "text/plain": [
       "<matplotlib.legend.Legend at 0x7ff113364820>"
      ]
     },
     "execution_count": 46,
     "metadata": {},
     "output_type": "execute_result"
    },
    {
     "data": {
      "image/png": "[encoded data removed]",
      "text/plain": [
       "<Figure size 432x288 with 1 Axes>"
      ]
     },
     "metadata": {
      "needs_background": "light"
     },
     "output_type": "display_data"
    }
   ],
   "source": [
    "plt.plot(eigenvalues, 'k.-', label = 'Ground truth')\n",
    "plt.plot(numerical_eigs.real[::-1], 'g.-', label = 'Arnoldi eigenvalues')\n",
    "plt.plot(rand_numerical_eigs[::-1].real, label ='Randomized eigenvalues')\n",
    "plt.legend(frameon=False)"
   ]
  },
  {
   "cell_type": "code",
   "execution_count": null,
   "metadata": {},
   "outputs": [],
   "source": []
  }
 ],
 "metadata": {
  "kernelspec": {
   "display_name": "base",
   "language": "python",
   "name": "python3"
  },
  "language_info": {
   "codemirror_mode": {
    "name": "ipython",
    "version": 3
   },
   "file_extension": ".py",
   "mimetype": "text/x-python",
   "name": "python",
   "nbconvert_exporter": "python",
   "pygments_lexer": "ipython3",
   "version": "3.9.7"
  },
  "orig_nbformat": 4,
  "vscode": {
   "interpreter": {
    "hash": "237a184721ccde86ff8290b36768bdbffa305b80665e86389e41b56c4800747d"
   }
  }
 },
 "nbformat": 4,
 "nbformat_minor": 2
}
