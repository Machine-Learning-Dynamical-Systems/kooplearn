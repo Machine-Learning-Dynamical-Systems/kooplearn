{
 "cells": [
  {
   "cell_type": "code",
   "execution_count": null,
   "metadata": {},
   "outputs": [],
   "source": [
    "from sys import path\n",
    "path.append('../../')\n",
    "from kooplearn.estimators import ReducedRank, PrincipalComponent\n",
    "from kooplearn.kernels import RBF, Matern\n",
    "\n",
    "from Logistic import LogisticMap\n",
    "from Lorenz63 import Lorenz63\n",
    "\n",
    "from tqdm import tqdm\n",
    "import numpy as np\n",
    "import matplotlib.pyplot as plt"
   ]
  },
  {
   "cell_type": "code",
   "execution_count": null,
   "metadata": {},
   "outputs": [],
   "source": [
    "def compare_estimator_errors(\n",
    "    Map,\n",
    "    sample_size, \n",
    "    params,\n",
    "    num_repetitions = 10, \n",
    "    num_test_points = 50000,\n",
    "    sample_kwargs = {},\n",
    "    bracket =[1e-7, 1e-1]\n",
    "    ):\n",
    "    samples = np.zeros((2, sample_size, Map.ndim, num_repetitions))\n",
    "    for idx in range(num_repetitions):\n",
    "        x, y = Map.sample(size=sample_size, **sample_kwargs)\n",
    "        samples[0,...,idx] = (x - x.mean(axis=0)) / x.std(axis=0)\n",
    "        samples[1,...,idx] = (y - y.mean(axis=0)) / y.std(axis=0)\n",
    "    \n",
    "    x_test, y_test = Map.sample(size=num_test_points, **sample_kwargs)\n",
    "    x_test = (x_test - x_test.mean(axis=0)) / x_test.std(axis=0)\n",
    "    y_test = (y_test - y_test.mean(axis=0)) / y_test.std(axis=0)\n",
    "\n",
    "    def RRR_norm_f(tikhonov_reg, x, y, PCR_norm):\n",
    "        return ReducedRank(**params, tikhonov_reg = tikhonov_reg).fit(x, y).norm() - PCR_norm\n",
    "    \n",
    "    results = {}\n",
    "    for estimator in ['PCR', 'RRR']:\n",
    "        results[estimator] = {}\n",
    "        for quantity in ['train', 'test', 'norm']:\n",
    "            results[estimator][quantity] = np.zeros(num_repetitions)\n",
    "\n",
    "    for idx in tqdm(range(num_repetitions), desc=f'Computing errors for sample size: {sample_size}'):\n",
    "        x = samples[0,...,idx]\n",
    "        y = samples[1,...,idx]\n",
    "\n",
    "        PCR_estimator = PrincipalComponent(**params).fit(x, y)\n",
    "        results['PCR']['test'][idx] = PCR_estimator.risk(x_test, y_test)\n",
    "        results['PCR']['train'][idx] = PCR_estimator.risk()\n",
    "        results['PCR']['norm'][idx] = PCR_estimator.norm()\n",
    "\n",
    "        root_result = root_scalar(RRR_norm_f, (x, y, results['PCR']['norm'][idx]), bracket=bracket)\n",
    "        RRR_estimator = ReducedRank(**params, tikhonov_reg = root_result.root).fit(x, y)\n",
    "\n",
    "        results['RRR']['test'][idx] = RRR_estimator.risk(x_test, y_test)\n",
    "        results['RRR']['train'][idx] = RRR_estimator.risk()\n",
    "        results['RRR']['norm'][idx] = RRR_estimator.norm()\n",
    "        \n",
    "    return results"
   ]
  }
 ],
 "metadata": {
  "kernelspec": {
   "display_name": "base",
   "language": "python",
   "name": "python3"
  },
  "language_info": {
   "name": "python",
   "version": "3.9.7 (default, Sep 16 2021, 13:09:58) \n[GCC 7.5.0]"
  },
  "orig_nbformat": 4,
  "vscode": {
   "interpreter": {
    "hash": "237a184721ccde86ff8290b36768bdbffa305b80665e86389e41b56c4800747d"
   }
  }
 },
 "nbformat": 4,
 "nbformat_minor": 2
}
