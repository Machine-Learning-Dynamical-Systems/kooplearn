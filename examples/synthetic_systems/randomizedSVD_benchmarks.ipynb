{
 "cells": [
  {
   "cell_type": "code",
   "execution_count": 5,
   "metadata": {},
   "outputs": [],
   "source": [
    "from sys import path\n",
    "path.append('../../')\n",
    "from kooplearn.estimators import ReducedRank, PrincipalComponent\n",
    "from kooplearn.kernels import RBF, Matern\n",
    "\n",
    "from Logistic import LogisticMap\n",
    "from Lorenz63 import Lorenz63\n",
    "\n",
    "from tqdm import tqdm\n",
    "import numpy as np\n",
    "import matplotlib.pyplot as plt\n",
    "from time import perf_counter\n",
    "\n",
    "plt.rcParams.update({\n",
    "    \"text.usetex\": True,\n",
    "    \"font.family\": \"serif\",\n",
    "    \"font.serif\": [\"Times\"],\n",
    "    \"font.size\": 9\n",
    "})"
   ]
  },
  {
   "cell_type": "code",
   "execution_count": 2,
   "metadata": {},
   "outputs": [],
   "source": [
    "def time_fn_execution(f, args, num_repetitions):\n",
    "    times = np.zeros(num_repetitions)\n",
    "    for rep_idx in range(num_repetitions):\n",
    "        _start = perf_counter()\n",
    "        f(*args) #time it\n",
    "        _stop = perf_counter()\n",
    "        times[rep_idx] = _stop - _start\n",
    "    return times\n",
    "\n",
    "def benchmark(map, sample_size, params, num_repetitions, sample_kwargs = {}, solvers = ['full', 'randomized']):\n",
    "    x, y = map.sample(size=sample_size, **sample_kwargs)\n",
    "    x = (x - x.mean(axis=0)) / x.std(axis=0)\n",
    "    y = (y - y.mean(axis=0)) / y.std(axis=0)\n",
    "    times = np.zeros((len(solvers), num_repetitions))\n",
    "    for solver_idx, svd_solver in enumerate(solvers):\n",
    "        estimator = ReducedRank(**params, svd_solver=svd_solver)\n",
    "        times[solver_idx,:] = time_fn_execution(estimator.fit, (x,y), num_repetitions)\n",
    "    return times"
   ]
  },
  {
   "cell_type": "code",
   "execution_count": 3,
   "metadata": {},
   "outputs": [
    {
     "name": "stderr",
     "output_type": "stream",
     "text": [
      "Init: Transfer matrix: 100%|██████████| 21/21 [00:00<00:00, 25.28it/s]\n"
     ]
    }
   ],
   "source": [
    "#sample_sizes = [500, 1000, 2000, 3000, 5000, 7500, 10000]\n",
    "sample_sizes = [100, 200, 300, 400, 500, 750, 1000, 2000]\n",
    "solvers = ['full', 'randomized', 'arnoldi']\n",
    "means = np.zeros((len(solvers), len(sample_sizes)))\n",
    "stds = np.zeros((len(solvers), len(sample_sizes)))\n",
    "\n",
    "num_repetitions = 3\n",
    "\n",
    "\n",
    "#Logistic Map\n",
    "kernel = RBF(length_scale=0.5)\n",
    "params = {\n",
    "    'kernel': kernel,\n",
    "    'backend': 'numpy',\n",
    "    'rank': 3,\n",
    "    'tikhonov_reg': 1e-6,\n",
    "    'n_oversamples': 10,\n",
    "    'iterated_power': 2\n",
    "}\n",
    "map = LogisticMap(N = 20)"
   ]
  },
  {
   "cell_type": "code",
   "execution_count": 4,
   "metadata": {},
   "outputs": [
    {
     "name": "stderr",
     "output_type": "stream",
     "text": [
      "100%|██████████| 8/8 [01:15<00:00,  9.44s/it]\n"
     ]
    }
   ],
   "source": [
    "for sample_idx, sample_size in tqdm(enumerate(sample_sizes), total=len(sample_sizes)):\n",
    "    times = benchmark(map, sample_size, params, num_repetitions, solvers=solvers)\n",
    "    means[:, sample_idx] = times.mean(axis=1)\n",
    "    stds[:, sample_idx] = times.std(axis=1)"
   ]
  },
  {
   "cell_type": "code",
   "execution_count": 8,
   "metadata": {},
   "outputs": [
    {
     "data": {
      "image/png": "[encoded data removed]",
      "text/plain": [
       "<Figure size 396x144 with 1 Axes>"
      ]
     },
     "metadata": {
      "needs_background": "light"
     },
     "output_type": "display_data"
    }
   ],
   "source": [
    "fig_width = 5.5 #Inches\n",
    "fig_height = 2 #Inches\n",
    "\n",
    "fig, ax = plt.subplots(figsize=(fig_width, fig_height))\n",
    "for solver_idx, solver in enumerate(solvers):\n",
    "    if solver == 'randomized':\n",
    "        label = solver.capitalize() + f\" p={params['iterated_power']}, s={params['n_oversamples']}\"\n",
    "    else:\n",
    "        label = solver.capitalize()\n",
    "    ax.plot(sample_sizes, means[solver_idx], '.-', label=label)\n",
    "    ax.fill_between(sample_sizes, (means - stds)[solver_idx], (means + stds)[solver_idx], alpha=0.5)\n",
    "ax.set_ylabel(\"time (s)\")\n",
    "ax.set_xlabel(\"Sample size\")\n",
    "ax.set_yscale('log')\n",
    "ax.set_xmargin(0)\n",
    "plt.legend(frameon=False, loc='upper left')\n",
    "plt.savefig(\"figs/randomizedSVD_benchmarks.pdf\")"
   ]
  }
 ],
 "metadata": {
  "kernelspec": {
   "display_name": "base",
   "language": "python",
   "name": "python3"
  },
  "language_info": {
   "codemirror_mode": {
    "name": "ipython",
    "version": 3
   },
   "file_extension": ".py",
   "mimetype": "text/x-python",
   "name": "python",
   "nbconvert_exporter": "python",
   "pygments_lexer": "ipython3",
   "version": "3.9.7"
  },
  "orig_nbformat": 4,
  "vscode": {
   "interpreter": {
    "hash": "237a184721ccde86ff8290b36768bdbffa305b80665e86389e41b56c4800747d"
   }
  }
 },
 "nbformat": 4,
 "nbformat_minor": 2
}
