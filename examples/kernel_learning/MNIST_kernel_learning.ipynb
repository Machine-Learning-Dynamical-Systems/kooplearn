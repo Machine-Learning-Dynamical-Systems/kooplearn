{
 "cells": [
  {
   "cell_type": "code",
   "execution_count": 1,
   "metadata": {},
   "outputs": [],
   "source": [
    "#Misc\n",
    "import signal\n",
    "import sys\n",
    "sys.path.append(\"../../\")\n",
    "from utils import build_sequential_data, data, targets\n",
    "#Torch\n",
    "import torch\n",
    "from torch.utils.data import DataLoader, TensorDataset\n",
    "from torch.autograd import Variable\n",
    "\n",
    "from torch.utils.tensorboard import SummaryWriter\n",
    "writer = SummaryWriter()\n",
    "\n",
    "#Numpy-Matplotlib-tqdm-sklearn\n",
    "import numpy as np\n",
    "import matplotlib.pyplot as plt\n",
    "from tqdm import tqdm\n",
    "from sklearn.model_selection import TimeSeriesSplit, ParameterGrid\n",
    "#DynamicalSystems\n",
    "from kooplearn.kernels import Linear, RBF, TorchScalarProduct\n",
    "from kooplearn.estimators import KernelRidge, ReducedRank"
   ]
  },
  {
   "cell_type": "code",
   "execution_count": 2,
   "metadata": {},
   "outputs": [],
   "source": [
    "d = 28 #Image Size in px\n",
    "#Hyperparameter initialization\n",
    "tikhonov_reg_linear = 48.3293 #CV\n",
    "gamma_linear = d**-2 #CV\n",
    "tikhonov_reg_RBF = 0.00785 #CV\n",
    "RBF_length_scale = 28*28"
   ]
  },
  {
   "cell_type": "code",
   "execution_count": 3,
   "metadata": {},
   "outputs": [],
   "source": [
    "#Datasets initialization\n",
    "num_classes = 3\n",
    "num_train_samples = 100\n",
    "batch_size = 1024\n",
    "\n",
    "sorting_permutation = build_sequential_data(num_classes=num_classes)\n",
    "dataset = data[sorting_permutation].reshape(-1,d**2)/256 - 0.5\n",
    "torch_dataset = torch.from_numpy(dataset)"
   ]
  },
  {
   "cell_type": "code",
   "execution_count": 4,
   "metadata": {},
   "outputs": [],
   "source": [
    "#Training init\n",
    "device = torch.device('cuda' if torch.cuda.is_available() else 'cpu')\n",
    "\n",
    "X_torch = torch_dataset[:-1].reshape((-1,1, d, d)) #Reshaping for conv2d\n",
    "Y_torch = torch_dataset[1:]\n",
    "\n",
    "tensor_dataset = TensorDataset(X_torch, Y_torch)\n",
    "loader = torch.utils.data.DataLoader(tensor_dataset, batch_size=batch_size, shuffle=False, num_workers=1)"
   ]
  },
  {
   "cell_type": "markdown",
   "metadata": {},
   "source": [
    "#### Train CNN-Kernel"
   ]
  },
  {
   "cell_type": "code",
   "execution_count": 5,
   "metadata": {},
   "outputs": [],
   "source": [
    "#To prepend before calling the feature map\n",
    "\"\"\"\n",
    "    if not torch.is_tensor(x):\n",
    "        x = torch.from_numpy(x).to(torch.float)\n",
    "    if not x.device == device:\n",
    "        x = x.to(device)\n",
    "\"\"\"\n",
    "\n",
    "def loss_func(phi_X, Y, gamma=1e-4, feature_reg=1e-1, cov_representation = False):\n",
    "    n, d_f = phi_X.shape\n",
    "    if cov_representation:\n",
    "        C_reg = torch.mm(phi_X.T, phi_X)*(n**-1) + torch.eye(phi_X.shape[1], dtype=phi_X.dtype, device=phi_X.device)*(gamma)\n",
    "        L = torch.linalg.cholesky(C_reg) #C_reg = L@L.T [d_f, d_f]\n",
    "        C = torch.cholesky_solve(phi_X.T, L) # [d_f, n]\n",
    "        T = torch.mm(C, Y) #[d_f, d**2]\n",
    "        res = torch.mean((Y - torch.mm(phi_X, T))**2)\n",
    "    else:\n",
    "        K_reg = torch.mm(phi_X, phi_X.T)*(n**-1) + torch.eye(phi_X.shape[0], dtype=phi_X.dtype, device=phi_X.device)*(gamma)\n",
    "        L = torch.linalg.cholesky(K_reg) #K_reg = L@L.T\n",
    "        C = torch.cholesky_solve(Y,L)\n",
    "        res = torch.mean(C**2)\n",
    "    return res #!!! this is a _biased_ estimator of the true operator. SGD might not work well. \n",
    "\n",
    "def classifier_train(num_epochs, cnn, loader, lr = 1e-4, cov_representation = False):\n",
    "    optimizer = torch.optim.Adam(cnn.parameters(), lr = lr)\n",
    "    scheduler = torch.optim.lr_scheduler.ReduceLROnPlateau(optimizer, 'min', patience=2, cooldown=3)  \n",
    "    cnn.train()\n",
    "    # Train the model\n",
    "    for epoch in range(num_epochs):\n",
    "        for i, (X, Y) in enumerate(loader):\n",
    "            if i == 0:     \n",
    "                # gives batch data, normalize x when iterate train_loader\n",
    "                b_X = Variable(X)   # batch x\n",
    "                phi_X = cnn(b_X.to(device))\n",
    "                loss = loss_func(phi_X, Y.to(device), cov_representation = cov_representation)\n",
    "                \n",
    "                # clear gradients for this training step   \n",
    "                optimizer.zero_grad()           \n",
    "                \n",
    "                # backpropagation, compute gradients \n",
    "                loss.backward()    \n",
    "                # apply gradients             \n",
    "                optimizer.step()\n",
    "                #scheduler\n",
    "                scheduler.step(loss)\n",
    "        writer.add_scalar(\"Loss/epochs\", loss, epoch)\n",
    "        #print ('Epoch [{}/{}], Loss: {:.4f}'.format(epoch + 1, num_epochs,loss.item()))\n",
    "    writer.flush()"
   ]
  },
  {
   "cell_type": "code",
   "execution_count": 6,
   "metadata": {},
   "outputs": [
    {
     "data": {
      "text/plain": [
       "CNN(\n",
       "  (conv1): Sequential(\n",
       "    (0): Conv2d(1, 16, kernel_size=(5, 5), stride=(1, 1), padding=(2, 2))\n",
       "    (1): ReLU()\n",
       "    (2): MaxPool2d(kernel_size=2, stride=2, padding=0, dilation=1, ceil_mode=False)\n",
       "  )\n",
       "  (conv2): Sequential(\n",
       "    (0): Conv2d(16, 32, kernel_size=(5, 5), stride=(1, 1), padding=(2, 2))\n",
       "    (1): ReLU()\n",
       "    (2): MaxPool2d(kernel_size=2, stride=2, padding=0, dilation=1, ceil_mode=False)\n",
       "  )\n",
       "  (out): Sequential(\n",
       "    (0): Linear(in_features=1568, out_features=10, bias=True)\n",
       "  )\n",
       ")"
      ]
     },
     "execution_count": 6,
     "metadata": {},
     "output_type": "execute_result"
    }
   ],
   "source": [
    "net = CNN(num_features=10, clamp_last_layer=True, min=-1, max=1).to(device)\n",
    "classifier_train(500, net, loader, lr=1e-3, cov_representation = True)\n",
    "net.eval()"
   ]
  },
  {
   "cell_type": "markdown",
   "metadata": {},
   "source": [
    "### Learning with Linear, RBF and DeepKernel"
   ]
  },
  {
   "cell_type": "code",
   "execution_count": 13,
   "metadata": {},
   "outputs": [],
   "source": [
    "class DeepKernelNew(Kernel):\n",
    "    def __init__(self, net):\n",
    "        self.net = net\n",
    "        self.net.eval()\n",
    "    def __call__(self, X, Y=None, backend='auto'):\n",
    "        _d = int(np.sqrt(X.shape[1]))\n",
    "        if backend == 'keops':\n",
    "            raise NotImplementedError(\"KeOps backend is not implemented for DeepKernel.\")\n",
    "        else:\n",
    "            with torch.no_grad():\n",
    "                _X = torch.from_numpy(X.reshape((-1,1, d, d))).to(device)\n",
    "                Phi_X = self.net(_X.float()).cpu().numpy()\n",
    "                if Y is None:\n",
    "                    Phi_Y = Phi_X.copy()\n",
    "                else:\n",
    "                    _Y = torch.from_numpy(Y.reshape((-1,1, d, d))).to(device)\n",
    "                    Phi_Y = self.net(_Y.float()).cpu().numpy()            \n",
    "            return Phi_X@(Phi_Y.T)"
   ]
  },
  {
   "cell_type": "code",
   "execution_count": 14,
   "metadata": {},
   "outputs": [],
   "source": [
    "cnn_kernel = DeepKernelNew(net)\n",
    "kernels = [Linear(gamma=gamma_linear), RBF(length_scale = 28*28), cnn_kernel]\n",
    "tikhonov_regs = [tikhonov_reg_linear, tikhonov_reg_RBF, 1e-4]\n",
    "trained_estimators = []\n",
    "X = dataset[:-1]\n",
    "Y = dataset[1:]\n",
    "\n",
    "X_train = X[:num_train_samples]\n",
    "Y_train = Y[:num_train_samples] \n",
    "\n",
    "for k_idx, kernel in enumerate(kernels):\n",
    "    K = KernelRidge(kernel=kernel, tikhonov_reg=tikhonov_regs[k_idx])\n",
    "    K.fit(X_train, Y_train)\n",
    "    trained_estimators.append(K)"
   ]
  },
  {
   "cell_type": "code",
   "execution_count": 25,
   "metadata": {},
   "outputs": [
    {
     "data": {
      "image/png": "[encoded data removed]",
      "text/plain": [
       "<Figure size 396x144 with 9 Axes>"
      ]
     },
     "metadata": {
      "needs_background": "light"
     },
     "output_type": "display_data"
    }
   ],
   "source": [
    "seed = 0 # int between 0 and 9\n",
    "X_0 = X[num_train_samples + 0*num_classes + seed + 1][None, :].reshape(28,28)\n",
    "_img_data = []\n",
    "for row in range(len(trained_estimators)):\n",
    "    estimator = trained_estimators[row]\n",
    "    _kernel_name = estimator.kernel.__class__.__name__\n",
    "    _imgs = [X_0]\n",
    "    for col in range(num_classes):\n",
    "        X_val = _imgs[-1].reshape(1, 28*28)\n",
    "        Y_val = estimator.predict(X_val)\n",
    "        Y_val = np.squeeze(Y_val).reshape(28,28)\n",
    "        _imgs.append(Y_val)\n",
    "    _img_data.append(_imgs)\n",
    "data = np.array(_img_data)\n",
    "num_classes = data.shape[1] - 1\n",
    "labels = ['Linear Kernel', 'Gaussian Kernel', 'CNN Kernel']\n",
    "\n",
    "fig_width = 5.5 #Inches\n",
    "fig_height = 2 #Inches\n",
    "fig, axes = plt.subplots(nrows = data.shape[0], ncols=num_classes, figsize=(fig_width, fig_height))\n",
    "plt.subplots_adjust(wspace=0, hspace=0)\n",
    "for row in range(data.shape[0]):\n",
    "    for col in range(num_classes):\n",
    "        ax = axes[row, col]\n",
    "        ax.axis('off')\n",
    "        Y_val = data[row, col]\n",
    "        ax.imshow(Y_val, cmap=\"gray\")\n",
    "        if col == 0:\n",
    "            ax.text(-2, 14, labels[row], ha='right')\n",
    "        if row == 0:\n",
    "            if col == 0:\n",
    "                ax.text(14, -4, \"Seed\", ha='center')\n",
    "            elif 0 < col < num_classes:\n",
    "                ax.text(14, -4, r\"$t = {}$\".format(col), ha='center')\n",
    "#plt.savefig(f\"figs/{seed}_prediction.pdf\", bbox_inches='tight')"
   ]
  },
  {
   "cell_type": "code",
   "execution_count": null,
   "metadata": {},
   "outputs": [],
   "source": []
  }
 ],
 "metadata": {
  "kernelspec": {
   "display_name": "Python 3.9.7 ('base')",
   "language": "python",
   "name": "python3"
  },
  "language_info": {
   "codemirror_mode": {
    "name": "ipython",
    "version": 3
   },
   "file_extension": ".py",
   "mimetype": "text/x-python",
   "name": "python",
   "nbconvert_exporter": "python",
   "pygments_lexer": "ipython3",
   "version": "3.9.7"
  },
  "vscode": {
   "interpreter": {
    "hash": "237a184721ccde86ff8290b36768bdbffa305b80665e86389e41b56c4800747d"
   }
  }
 },
 "nbformat": 4,
 "nbformat_minor": 4
}
