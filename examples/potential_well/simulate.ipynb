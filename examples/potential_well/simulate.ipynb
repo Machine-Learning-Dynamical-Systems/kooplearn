{
 "cells": [
  {
   "cell_type": "code",
   "execution_count": 1,
   "metadata": {},
   "outputs": [],
   "source": [
    "#General Purpose\n",
    "import sys \n",
    "import numpy as np\n",
    "import json\n",
    "from tqdm import tqdm\n",
    "#JAX\n",
    "import jax.numpy as jnp\n",
    "import jax \n",
    "#import jax_md\n",
    "#DynamicalSystems\n",
    "sys.path.append(\"../../\")\n",
    "from kooplearn.estimators import ReducedRank, PrincipalComponent\n",
    "from kooplearn.kernels import RBF"
   ]
  },
  {
   "cell_type": "code",
   "execution_count": 2,
   "metadata": {},
   "outputs": [],
   "source": [
    "CPU = jax.devices('cpu')[0]\n",
    "f32 = jnp.float32"
   ]
  },
  {
   "cell_type": "code",
   "execution_count": 3,
   "metadata": {},
   "outputs": [
    {
     "name": "stderr",
     "output_type": "stream",
     "text": [
      "100%|██████████| 1/1 [00:06<00:00,  6.68s/it]\n"
     ]
    }
   ],
   "source": [
    "with jax.default_device(CPU):\n",
    "    #Init variables\n",
    "    key = jax.random.PRNGKey(0)\n",
    "    \n",
    "    with open(\"config.json\", \"r\") as f:\n",
    "        config = json.load(f)\n",
    "\n",
    "    @jax.jit\n",
    "    def pande_potential(x):\n",
    "        \"\"\"\n",
    "        See Example 1 of \"Modeling Molecular Kinetics with tICA and the Kernel Trick\" 10.1021/ct5007357\n",
    "        \"\"\"\n",
    "        return jnp.sum(4*(x**8+ 0.8*jnp.exp(-80*(x**2)) +  0.2*jnp.exp(-80*((x - 0.5)**2)) + 0.5*jnp.exp(-40*((x + 0.5)**2))))\n",
    "    kernel = RBF(length_scale = config[\"ML\"][\"RBF_length_scale\"])\n",
    "\n",
    "    #Load Some Configs\n",
    "    T_min = config[\"physics\"][\"temperature\"][\"min\"]\n",
    "    T_max = config[\"physics\"][\"temperature\"][\"max\"]\n",
    "    T_num = config[\"physics\"][\"temperature\"][\"num\"]\n",
    "    steps = int(config[\"meta\"][\"simulation_steps\"])\n",
    "    write_every = int(config[\"meta\"][\"write_every\"])\n",
    "\n",
    "    def log_position(vars):\n",
    "        val, positions, curr_idx = vars\n",
    "        return positions.at[curr_idx // write_every].set(val)\n",
    "\n",
    "    def do_nothing(vars):\n",
    "        _, positions, _ = vars\n",
    "        return positions\n",
    "\n",
    "    evals_data = np.zeros((T_num, config[\"meta\"][\"num_simulations\"], config[\"ML\"][\"rank\"]), dtype=np.complex128)\n",
    "    evals_PCR_data = np.zeros((T_num, config[\"meta\"][\"num_simulations\"], config[\"ML\"][\"rank\"]), dtype=np.complex128)\n",
    "\n",
    "    import jax_md\n",
    "    displacement_fn, shift_fn = jax_md.space.free()\n",
    "    for T_idx, temperature in tqdm(enumerate(np.linspace(T_min, T_max, T_num)), total=T_num):\n",
    "        key, split = jax.random.split(key)\n",
    "        R = jax.random.uniform(split, (config[\"meta\"][\"num_simulations\"],1), minval=-1, maxval=1, dtype=f32)\n",
    "        positions = jnp.zeros((steps // write_every,) + R.shape, dtype=f32) #Init array to store positions\n",
    "        init_fn, apply_fn = jax_md.simulate.brownian(pande_potential, shift_fn, config[\"physics\"][\"time_step\"], temperature)\n",
    "        apply_fin = jax.jit(apply_fn)\n",
    "\n",
    "        @jax.jit\n",
    "        def simulation_step(curr_idx, state_and_positions):\n",
    "            state, positions = state_and_positions\n",
    "            pred = (curr_idx % write_every == 0)\n",
    "            vars = (state.position, positions, curr_idx)\n",
    "            positions = jax.lax.cond(pred, log_position, do_nothing, vars)\n",
    "            state = apply_fn(state)\n",
    "            return state, positions\n",
    "            \n",
    "        state = init_fn(key, R)\n",
    "        state, positions = jax.lax.fori_loop(0, steps, simulation_step, (state, positions))\n",
    "        traj = jnp.squeeze(positions)\n",
    "\n",
    "        _min = config[\"ML\"][\"eigenfunction_sample\"][\"min\"]\n",
    "        _max = config[\"ML\"][\"eigenfunction_sample\"][\"max\"]\n",
    "        _num = config[\"ML\"][\"eigenfunction_sample\"][\"num\"]\n",
    "\n",
    "        x = np.linspace(_min, _max, _num)[:, None]\n",
    "\n",
    "        for sim_idx in range(traj.shape[1]):\n",
    "            sample = traj[:,sim_idx]\n",
    "            X = np.asarray(sample[:-1, None], dtype=np.float64)\n",
    "            Y = np.asarray(sample[1:, None], dtype=np.float64)\n",
    "            Koopman = ReducedRank(kernel, rank=config[\"ML\"][\"rank\"], tikhonov_reg=config[\"ML\"][\"tikhonov_reg\"], svd_solver = 'randomized')\n",
    "            Koopman.fit(X, Y)\n",
    "            evals, _ = Koopman.eig()\n",
    "            evals_data[T_idx, sim_idx] = evals\n",
    "            #Write to file evals_data, lefuns_data, refuns_data\n",
    "            with open(\"data/evals_data.npy\", \"wb\") as f:\n",
    "                np.save(f, evals_data)\n",
    "            \n",
    "            Koopman = PrincipalComponent(kernel, rank=config[\"ML\"][\"rank\"], svd_solver = 'arnoldi')\n",
    "            Koopman.fit(X, Y)\n",
    "            evals, _ = Koopman.eig()\n",
    "            evals_PCR_data[T_idx, sim_idx] = evals\n",
    "            #Write to file evals_data, lefuns_data, refuns_data\n",
    "            with open(\"data/evals_data_PCR.npy\", \"wb\") as f:\n",
    "                np.save(f, evals_PCR_data)"
   ]
  },
  {
   "cell_type": "code",
   "execution_count": null,
   "metadata": {},
   "outputs": [],
   "source": []
  }
 ],
 "metadata": {
  "kernelspec": {
   "display_name": "base",
   "language": "python",
   "name": "python3"
  },
  "language_info": {
   "codemirror_mode": {
    "name": "ipython",
    "version": 3
   },
   "file_extension": ".py",
   "mimetype": "text/x-python",
   "name": "python",
   "nbconvert_exporter": "python",
   "pygments_lexer": "ipython3",
   "version": "3.9.7"
  },
  "orig_nbformat": 4,
  "vscode": {
   "interpreter": {
    "hash": "237a184721ccde86ff8290b36768bdbffa305b80665e86389e41b56c4800747d"
   }
  }
 },
 "nbformat": 4,
 "nbformat_minor": 2
}
