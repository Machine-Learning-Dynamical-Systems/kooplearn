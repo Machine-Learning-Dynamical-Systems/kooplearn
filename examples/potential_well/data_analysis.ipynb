{
 "cells": [
  {
   "cell_type": "code",
   "execution_count": 33,
   "metadata": {},
   "outputs": [],
   "source": [
    "#STDLIB\n",
    "from typing import NamedTuple\n",
    "import sys\n",
    "sys.path.append(\"../../\")\n",
    "import pickle\n",
    "import importlib\n",
    "\n",
    "import jax\n",
    "import jax.numpy as jnp\n",
    "\n",
    "import matplotlib.pyplot as plt\n",
    "import scienceplots\n",
    "plt.style.use(['science', 'vibrant'])\n",
    "\n",
    "import numpy as np\n",
    "from tqdm import tqdm\n",
    "\n",
    "kernel_module = importlib.import_module('kooplearn.kernels')\n",
    "from simulate import SimulationData\n",
    "from eigenvalues_error_bounds import eigenvalue_errors, eps_n_1, error_decay_variable\n",
    "prop_cycle = plt.rcParams['axes.prop_cycle']\n",
    "colors = prop_cycle.by_key()['color']"
   ]
  },
  {
   "cell_type": "code",
   "execution_count": 17,
   "metadata": {},
   "outputs": [],
   "source": [
    "with open(\"data/RRR_Matern.pkl\", 'rb') as f:\n",
    "    data = pickle.load(f)"
   ]
  },
  {
   "cell_type": "code",
   "execution_count": 18,
   "metadata": {},
   "outputs": [
    {
     "data": {
      "text/plain": [
       "Text(0.5, 0, '\\\\# of independent simulation')"
      ]
     },
     "execution_count": 18,
     "metadata": {},
     "output_type": "execute_result"
    },
    {
     "data": {
      "image/png": "[encoded data removed]",
      "text/plain": [
       "<Figure size 350x262.5 with 1 Axes>"
      ]
     },
     "metadata": {},
     "output_type": "display_data"
    }
   ],
   "source": [
    "fig, ax = plt.subplots()\n",
    "for i in range(data.eigenvalues.shape[1]):\n",
    "    ax.plot(data.eigenvalues[:, i],'.', c=colors[i], ms=2)\n",
    "    ax.axhline(data.benchmark[i], c=colors[i], alpha=0.5)\n",
    "ax.margins(x=0)\n",
    "ax.set_ylabel(\"Eigenvalues\")\n",
    "ax.set_xlabel(\"\\# of independent simulation\")"
   ]
  },
  {
   "attachments": {},
   "cell_type": "markdown",
   "metadata": {},
   "source": [
    "### Eigenvalues error bounds"
   ]
  },
  {
   "cell_type": "code",
   "execution_count": 19,
   "metadata": {},
   "outputs": [
    {
     "name": "stderr",
     "output_type": "stream",
     "text": [
      "Evaluating empirical eigenvalue errors:   0%|          | 0/100 [00:00<?, ?it/s]/tmp/ipykernel_2733652/3995258950.py:11: ComplexWarning: Casting complex values to real discards the imaginary part\n",
      "  errors[ds_index] = eigenvalue_errors(eta, sval_B_rp1, X, kernel, 1 - confidence_interval, tikhonov_reg)\n",
      "Evaluating empirical eigenvalue errors: 100%|██████████| 100/100 [00:14<00:00,  6.87it/s]\n"
     ]
    }
   ],
   "source": [
    "configs = data.configs_dump\n",
    "kernel_class = getattr(kernel_module, configs[\"kernel\"])\n",
    "confidence_interval = 0.95\n",
    "errors = np.zeros_like(data.eigenvalues, dtype=np.float64)\n",
    "kernel = kernel_class(**configs[\"kernel_kwargs\"])\n",
    "tikhonov_reg = configs[\"estimator_kwargs\"][\"tikhonov_reg\"]\n",
    "for ds_index in tqdm(range(data.eigenvalues.shape[0]), desc='Evaluating empirical eigenvalue errors'):\n",
    "    eta = data.eta[ds_index]\n",
    "    sval_B_rp1 = data.sval_B_rp1[ds_index]\n",
    "    X = data.datasets[0][ds_index]\n",
    "    errors[ds_index] = eigenvalue_errors(eta, sval_B_rp1, X, kernel, 1 - confidence_interval, tikhonov_reg)"
   ]
  },
  {
   "attachments": {},
   "cell_type": "markdown",
   "metadata": {},
   "source": [
    "### RRR vs. PCR estimation"
   ]
  },
  {
   "cell_type": "code",
   "execution_count": 16,
   "metadata": {},
   "outputs": [],
   "source": [
    "with open(\"data/RRR_RBF.pkl\", 'rb') as f:\n",
    "    data_RRR = pickle.load(f)\n",
    "with open(\"data/PCR_RBF.pkl\", 'rb') as f:\n",
    "    data_PCR = pickle.load(f)"
   ]
  },
  {
   "cell_type": "code",
   "execution_count": 24,
   "metadata": {},
   "outputs": [],
   "source": [
    "class Stats(NamedTuple):\n",
    "    mean: np.ndarray\n",
    "    std: np.ndarray\n",
    "def statistics(eigenvalues: np.ndarray) -> Stats:\n",
    "    eigenvalues = np.flip(np.sort(eigenvalues, axis=1), axis=1)\n",
    "    mean = np.mean(eigenvalues, axis=0)\n",
    "    std = np.std(eigenvalues, axis=0)\n",
    "    return Stats(mean, std)"
   ]
  },
  {
   "cell_type": "code",
   "execution_count": 52,
   "metadata": {},
   "outputs": [
    {
     "data": {
      "text/plain": [
       "Text(0.5, 1.0, 'Eigenvalue estimation error: RRR vs PCR')"
      ]
     },
     "execution_count": 52,
     "metadata": {},
     "output_type": "execute_result"
    },
    {
     "data": {
      "image/png": "[encoded data removed]",
      "text/plain": [
       "<Figure size 350x262.5 with 1 Axes>"
      ]
     },
     "metadata": {},
     "output_type": "display_data"
    }
   ],
   "source": [
    "dx = 0.1\n",
    "x = np.arange(4)\n",
    "\n",
    "PCR_s = statistics(data_PCR.eigenvalues)\n",
    "RRR_s = statistics(data_RRR.eigenvalues)\n",
    "\n",
    "fig, ax = plt.subplots()\n",
    "ax.errorbar(x - dx, RRR_s.mean - data_PCR.benchmark, yerr=RRR_s.std, fmt='.', c=colors[0], label=\"RRR\")\n",
    "ax.errorbar(x + dx, PCR_s.mean- data_PCR.benchmark, yerr=PCR_s.std, fmt='.', c=colors[1], label=\"PCR\")\n",
    "\n",
    "ax.axhline(0, ls=\"--\", c='k', alpha=0.4)\n",
    "ax.legend(frameon=False, loc='lower left')\n",
    "\n",
    "ax.set_xlabel(\"Eigenvalue index $i$\")\n",
    "ax.set_ylabel(\"Error $\\widehat{\\lambda}_{i} - \\lambda_{i}$\")\n",
    "\n",
    "ax.set_title(\"Eigenvalue estimation error: RRR vs PCR\")"
   ]
  }
 ],
 "metadata": {
  "kernelspec": {
   "display_name": "base",
   "language": "python",
   "name": "python3"
  },
  "language_info": {
   "codemirror_mode": {
    "name": "ipython",
    "version": 3
   },
   "file_extension": ".py",
   "mimetype": "text/x-python",
   "name": "python",
   "nbconvert_exporter": "python",
   "pygments_lexer": "ipython3",
   "version": "3.9.7"
  },
  "orig_nbformat": 4,
  "vscode": {
   "interpreter": {
    "hash": "237a184721ccde86ff8290b36768bdbffa305b80665e86389e41b56c4800747d"
   }
  }
 },
 "nbformat": 4,
 "nbformat_minor": 2
}
