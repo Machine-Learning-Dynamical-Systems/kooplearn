{
 "cells": [
  {
   "cell_type": "markdown",
   "metadata": {},
   "source": [
    "(context_windows_tutorial)=\n",
    "# Working with Context Windows\n",
    "\n",
    "> _Author:_ Pietro Novelli — [@pie_novelli](https://twitter.com/pie_novelli)\n",
    "\n",
    "Kooplearn's fundamental data units are [context windows](kooplearn_data_paradigm). In the practice of dynamical system analysis, and more generally sequence modelling, it is arguably more natural to conceive a \"data point\" as a context window containing the dynamical information at a given point in time. A context window encloses the 'past' in its _lookback window_ and the 'future' in its _lookforward window_. Intuitively, everything in the lookback window is the information we need to provide, at inference time, to predict what will happen in the lookforward window. By using context windows we depart from the usual paradigm in supervised learning in which data is categorized into inputs and outputs.\n",
    "\n",
    "As of version 1.1.0, Kooplearn exposes the following key objects:\n",
    "\n",
    "- {class}`kooplearn.abc.ContextWindow`: the root class defining generic context windows.\n",
    "- {class}`kooplearn.abc.ContextWindowDataset`: representing generic collections of context windows.\n",
    "- {class}`kooplearn.data.TensorContextDataset`: representing collections of context windows with tensor elements.\n",
    "- {class}`kooplearn.data.TrajectoryContextDataset`: representing collections of context windows obtained obtained sliding through a single long trajectory.\n",
    "\n",
    "In this hands-on tutorial notebook we discuss each one of these objects and their specific use-cases."
   ]
  },
  {
   "cell_type": "markdown",
   "metadata": {},
   "source": [
    "## Generic context windows: {class}`kooplearn.abc.ContextWindow`\n",
    "\n",
    "{class}`kooplearn.abc.ContextWindow` is just a subclass of [`Sequence`](https://docs.python.org/3/library/collections.abc.html#collections.abc.Sequence). For example, in language modelling [context windows are usually made of sequence of characters or tokens](https://en.wikipedia.org/wiki/Large_language_model#Prompt_engineering,_attention_mechanism,_and_context_window):"
   ]
  },
  {
   "cell_type": "code",
   "execution_count": 1,
   "metadata": {},
   "outputs": [
    {
     "name": "stdout",
     "output_type": "stream",
     "text": [
      "ContextWindow <context_length=19, data=['t', 'h', 'e', '_', 'q', 'u', 'i', 'c', 'k', '_', 'b', 'r', 'o', 'w', 'n', '_', 'f', 'o', 'x']>\n"
     ]
    }
   ],
   "source": [
    "from kooplearn.abc import ContextWindow\n",
    "\n",
    "text = \"the quick brown fox\"\n",
    "# Replace blank spaces with dashes\n",
    "text = text.replace(' ', '_')\n",
    "\n",
    "context_window = ContextWindow([char for char in text])\n",
    "print(context_window)"
   ]
  },
  {
   "cell_type": "markdown",
   "metadata": {},
   "source": [
    "the {class}`kooplearn.abc.ContextWindow` object has the {class}`kooplearn.abc.ContextWindow.context_length` attribute defined upon initialization. {class}`kooplearn.abc.ContextWindow.context_length` is inherited by _all the subclasses of_ {class}`kooplearn.abc.ContextWindow`."
   ]
  },
  {
   "cell_type": "code",
   "execution_count": 2,
   "metadata": {},
   "outputs": [
    {
     "data": {
      "text/plain": [
       "19"
      ]
     },
     "execution_count": 2,
     "metadata": {},
     "output_type": "execute_result"
    }
   ],
   "source": [
    "context_window.context_length"
   ]
  },
  {
   "cell_type": "markdown",
   "metadata": {},
   "source": [
    "To easily access the data in `context_window`, {class}`kooplearn.abc.ContextWindow` exposes three key methods:\n",
    "\n",
    "- {class}`kooplearn.abc.ContextWindow.lookback`\n",
    "- {class}`kooplearn.abc.ContextWindow.lookforward`\n",
    "- {class}`kooplearn.abc.ContextWindow.slice`\n",
    "\n",
    "The length of the lookback window is _not_ an attribute of {class}`kooplearn.abc.ContextWindow`, as it heavily depend to the model. Therefore, in kooplearn the lookback length is defined independently from each model and stored in the attribute {class}`kooplearn.abc.BaseModel.lookback_len`. For this example, let's just fix the lookback length to 10. The `lookback` and `lookforward` methods are extremely straightforward: given a lookback length return a sequence with the lookback or lookforward window, respectively."
   ]
  },
  {
   "cell_type": "code",
   "execution_count": 3,
   "metadata": {},
   "outputs": [
    {
     "name": "stdout",
     "output_type": "stream",
     "text": [
      "Lookback window: ['t', 'h', 'e', '_', 'q', 'u', 'i', 'c', 'k', '_']\n",
      "Lookforward window: ['b', 'r', 'o', 'w', 'n', '_', 'f', 'o', 'x']\n"
     ]
    }
   ],
   "source": [
    "lookback_length = 10\n",
    "\n",
    "lb_window = context_window.lookback(lookback_length)\n",
    "\n",
    "# The lookforward window length is inferenced from lookback_length directly\n",
    "lf_window = context_window.lookforward(lookback_length)\n",
    "\n",
    "print(f\"Lookback window: {lb_window}\")\n",
    "print(f\"Lookforward window: {lf_window}\")"
   ]
  },
  {
   "cell_type": "markdown",
   "metadata": {},
   "source": [
    "The `lookback` method also accepts an optional `slide_by` keyword argument, which can be used to return lookback windows shifted by an offset."
   ]
  },
  {
   "cell_type": "code",
   "execution_count": 4,
   "metadata": {},
   "outputs": [
    {
     "name": "stdout",
     "output_type": "stream",
     "text": [
      "Shifted lookback window: ['q', 'u', 'i', 'c', 'k', '_', 'b', 'r', 'o', 'w']\n",
      "ValueError: Invalid slide_by = 15 for lookback_length = 10 and Context of length = 19. It should be 0 <= slide_by <= context_length - lookback_length\n"
     ]
    }
   ],
   "source": [
    "# Skip the first 4 elements\n",
    "shifted_lb_window = context_window.lookback(lookback_length, slide_by=4) \n",
    "\n",
    "print(f\"Shifted lookback window: {shifted_lb_window}\") \n",
    "\n",
    "# Of course, if slide_by is too high an error is raised\n",
    "try:\n",
    "    # lookback length of 10 + sliding of 15 > context length of 19\n",
    "    overflow_lb_window = context_window.lookback(lookback_length, slide_by=15)\n",
    "    print(f\"Shifted lookback window: {overflow_lb_window}\") \n",
    "except ValueError as e:\n",
    "    print(f\"ValueError: {e}\")"
   ]
  },
  {
   "cell_type": "markdown",
   "metadata": {},
   "source": [
    "Finally, {class}`kooplearn.abc.ContextWindow.slice` is used to get arbitrary slices of the context window through [python slice objects](https://docs.python.org/3/glossary.html#term-slice)"
   ]
  },
  {
   "cell_type": "code",
   "execution_count": 5,
   "metadata": {},
   "outputs": [
    {
     "name": "stdout",
     "output_type": "stream",
     "text": [
      "Arbitrary slice: ['e', 'q', 'i', 'k', 'b', 'o', 'n']\n"
     ]
    }
   ],
   "source": [
    "slice_obj = slice(2, 16, 2) # (start, stop, step) \n",
    "context_slice = context_window.slice(slice_obj)\n",
    "print(f\"Arbitrary slice: {context_slice}\")"
   ]
  },
  {
   "cell_type": "markdown",
   "metadata": {},
   "source": [
    "## Collections of context windows: {class}`kooplearn.abc.ContextWindowDataset`\n",
    "\n",
    "In real applications we always deal with _collections_ of context windows. For this purpose, kooplearn exposes {class}`kooplearn.abc.ContextWindowDataset`, inheriting every method of {class}`kooplearn.abc.ContextWindow`. A Context Window Dataset can contain heterogeneous data. The only requirement is that every context window in the collection should have the same context length."
   ]
  },
  {
   "cell_type": "code",
   "execution_count": 6,
   "metadata": {},
   "outputs": [
    {
     "name": "stdout",
     "output_type": "stream",
     "text": [
      "ContextWindowDataset <item_count=3, context_length=5, data=[[1, 2, 3, 4, 5], ['a', 'b', 'c', 'd', 'e'], ['a', 1.0, True, 'd', 5]]>\n"
     ]
    }
   ],
   "source": [
    "from kooplearn.abc import ContextWindowDataset\n",
    " \n",
    "raw_contexts = [\n",
    "    [1, 2, 3, 4, 5],\n",
    "    ['a', 'b', 'c', 'd', 'e'],\n",
    "    ['a', 1.0, True, 'd', 5]\n",
    "]\n",
    "\n",
    "contexts = ContextWindowDataset(raw_contexts)\n",
    "print(contexts)"
   ]
  },
  {
   "cell_type": "markdown",
   "metadata": {},
   "source": [
    "And of course every slicing method works out of the box."
   ]
  },
  {
   "cell_type": "code",
   "execution_count": 7,
   "metadata": {},
   "outputs": [
    {
     "name": "stdout",
     "output_type": "stream",
     "text": [
      "Lookback window: [[1, 2], ['a', 'b'], ['a', 1.0]]\n",
      "Lookforward window: [[3, 4, 5], ['c', 'd', 'e'], [True, 'd', 5]]\n",
      "Shifted lookback window: [[3, 4], ['c', 'd'], [True, 'd']]\n",
      "Arbitrary slice: [[2, 3, 4], ['b', 'c', 'd'], [1.0, True, 'd']]\n"
     ]
    }
   ],
   "source": [
    "lookback_length = 2\n",
    "\n",
    "lb_window = contexts.lookback(lookback_length)\n",
    "lf_window = contexts.lookforward(lookback_length)\n",
    "shifted_lb_window = contexts.lookback(lookback_length, slide_by=2)\n",
    "\n",
    "slice_obj = slice(1, 4, 1) # (start, stop, step) \n",
    "context_slice = contexts.slice(slice_obj)\n",
    "\n",
    "\n",
    "print(f\"Lookback window: {lb_window}\")\n",
    "print(f\"Lookforward window: {lf_window}\")\n",
    "print(f\"Shifted lookback window: {shifted_lb_window}\") \n",
    "print(f\"Arbitrary slice: {context_slice}\")"
   ]
  },
  {
   "cell_type": "markdown",
   "metadata": {},
   "source": [
    "{class}`kooplearn.abc.ContextWindowDataset` can also be iterated:"
   ]
  },
  {
   "cell_type": "code",
   "execution_count": 8,
   "metadata": {},
   "outputs": [
    {
     "name": "stdout",
     "output_type": "stream",
     "text": [
      "ContextWindow <context_length=5, data=[1, 2, 3, 4, 5]>\n",
      "ContextWindow <context_length=5, data=['a', 'b', 'c', 'd', 'e']>\n",
      "ContextWindow <context_length=5, data=['a', 1.0, True, 'd', 5]>\n"
     ]
    }
   ],
   "source": [
    "for ctx in contexts:\n",
    "    print(ctx)"
   ]
  },
  {
   "cell_type": "markdown",
   "metadata": {},
   "source": [
    "### Tensor Context Windows: {class}`kooplearn.data.TensorContextDataset`\n",
    "\n",
    "While {class}`kooplearn.abc.ContextWindowDataset` can operate with eterogeneous data it is usually the case that states, that is elements in the context windows, are just multidimensional arrays of features. In kooplearn we implemented {class}`kooplearn.data.TensorContextDataset` to efficiently operate and slice through tensorial data. `TensorContextDataset` operate seamlessly with either `torch` and `numpy` tensors, and are initialized by providing a tensor of shape `(num_context_windows, context_length, *feature_shape)`."
   ]
  },
  {
   "cell_type": "code",
   "execution_count": 9,
   "metadata": {},
   "outputs": [
    {
     "name": "stdout",
     "output_type": "stream",
     "text": [
      "TensorContextDataset <item_count=3, context_length=5, data=[[[[0.63696169 0.26978671]\n",
      "   [0.04097352 0.01652764]]\n",
      "\n",
      "  [[0.81327024 0.91275558]\n",
      "   [0.60663578 0.72949656]]\n",
      "\n",
      "  [[0.54362499 0.93507242]\n",
      "   [0.81585355 0.0027385 ]]\n",
      "\n",
      "  [[0.85740428 0.03358558]\n",
      "   [0.72965545 0.17565562]]\n",
      "\n",
      "  [[0.86317892 0.54146122]\n",
      "   [0.29971189 0.42268722]]]\n",
      "\n",
      "\n",
      " [[[0.02831967 0.12428328]\n",
      "   [0.67062441 0.64718951]]\n",
      "\n",
      "  [[0.61538511 0.38367755]\n",
      "   [0.99720994 0.98083534]]\n",
      "\n",
      "  [[0.68554198 0.65045928]\n",
      "   [0.68844673 0.38892142]]\n",
      "\n",
      "  [[0.13509651 0.72148834]\n",
      "   [0.52535432 0.31024188]]\n",
      "\n",
      "  [[0.48583536 0.88948783]\n",
      "   [0.93404352 0.3577952 ]]]\n",
      "\n",
      "\n",
      " [[[0.57152983 0.32186939]\n",
      "   [0.59430003 0.33791123]]\n",
      "\n",
      "  [[0.391619   0.89027435]\n",
      "   [0.22715759 0.62318714]]\n",
      "\n",
      "  [[0.08401534 0.83264415]\n",
      "   [0.78709831 0.23936944]]\n",
      "\n",
      "  [[0.87648423 0.05856803]\n",
      "   [0.33611706 0.15027947]]\n",
      "\n",
      "  [[0.45033937 0.79632427]\n",
      "   [0.23064221 0.0520213 ]]]]>\n"
     ]
    }
   ],
   "source": [
    "import numpy as np\n",
    "import torch\n",
    "from kooplearn.data import TensorContextDataset\n",
    "\n",
    "# A collection of 3 context windows, with context length of 5 and 2x2 feature shape\n",
    "num_context_windows = 3\n",
    "context_length = 5\n",
    "feature_shape = (2,2)\n",
    "\n",
    "rng = np.random.default_rng(seed = 0) # for Reproducibility \n",
    "\n",
    "np_raw_contexts = rng.random((num_context_windows, context_length, *feature_shape))\n",
    "\n",
    "np_contexts = TensorContextDataset(np_raw_contexts)\n",
    "\n",
    "print(np_contexts)"
   ]
  },
  {
   "cell_type": "markdown",
   "metadata": {},
   "source": [
    "{class}`kooplearn.data.TensorContextDataset` can be initialized by setting a `backend`, which can be either `torch` or `numpy` and any backend keyword argument such as dtype or device. For example we can initialize a `torch`-backed context dataset with complex dtype as:"
   ]
  },
  {
   "cell_type": "code",
   "execution_count": 10,
   "metadata": {},
   "outputs": [
    {
     "name": "stdout",
     "output_type": "stream",
     "text": [
      "The original data is of type <class 'numpy.ndarray'>\n",
      "The data in complex_torch_contexts is of type <class 'torch.Tensor'>\n",
      "The original dtype is float64\n",
      "The data in complex_torch_contexts is of dtype torch.complex64\n"
     ]
    }
   ],
   "source": [
    "complex_torch_contexts = TensorContextDataset(np_raw_contexts, backend='torch', dtype=torch.cfloat)\n",
    "\n",
    "print(f\"The original data is of type {type(np_raw_contexts)}\")\n",
    "print(f\"The data in complex_torch_contexts is of type {type(complex_torch_contexts.data)}\")\n",
    "\n",
    "print(f\"The original dtype is {np_raw_contexts.dtype}\")\n",
    "print(f\"The data in complex_torch_contexts is of dtype {complex_torch_contexts.data.dtype}\")\n"
   ]
  },
  {
   "cell_type": "markdown",
   "metadata": {},
   "source": [
    "### Context Windows from Trajectories: {class}`kooplearn.data.TrajectoryContextDataset`"
   ]
  },
  {
   "cell_type": "markdown",
   "metadata": {},
   "source": [
    "Finally, when we have a long trajectory of points we can construct a collection of context windows via {class}`kooplearn.data.TrajectoryContextDataset` or via {func}`kooplearn.data.traj_to_contexts`. "
   ]
  },
  {
   "cell_type": "code",
   "execution_count": 11,
   "metadata": {},
   "outputs": [
    {
     "name": "stdout",
     "output_type": "stream",
     "text": [
      "[0. 1. 2. 3. 4. 5.]\n",
      "TrajectoryContextDataset <item_count=3, context_length=4, data=[[[0.]\n",
      "  [1.]\n",
      "  [2.]\n",
      "  [3.]]\n",
      "\n",
      " [[1.]\n",
      "  [2.]\n",
      "  [3.]\n",
      "  [4.]]\n",
      "\n",
      " [[2.]\n",
      "  [3.]\n",
      "  [4.]\n",
      "  [5.]]]>\n"
     ]
    }
   ],
   "source": [
    "from kooplearn.data import TrajectoryContextDataset\n",
    "\n",
    "long_trajectory = np.arange(6, dtype = np.float32)\n",
    "print(long_trajectory)\n",
    "\n",
    "contexts = TrajectoryContextDataset(long_trajectory, context_length = 4)\n",
    "print(contexts)\n"
   ]
  },
  {
   "cell_type": "markdown",
   "metadata": {},
   "source": [
    "Of course every slicing operation still works:"
   ]
  },
  {
   "cell_type": "code",
   "execution_count": 12,
   "metadata": {},
   "outputs": [
    {
     "name": "stdout",
     "output_type": "stream",
     "text": [
      "Lookback window: [[[0.]\n",
      "  [1.]]\n",
      "\n",
      " [[1.]\n",
      "  [2.]]\n",
      "\n",
      " [[2.]\n",
      "  [3.]]]\n",
      "Lookforward window: [[[2.]\n",
      "  [3.]]\n",
      "\n",
      " [[3.]\n",
      "  [4.]]\n",
      "\n",
      " [[4.]\n",
      "  [5.]]]\n",
      "Shifted lookback window: [[[2.]\n",
      "  [3.]]\n",
      "\n",
      " [[3.]\n",
      "  [4.]]\n",
      "\n",
      " [[4.]\n",
      "  [5.]]]\n",
      "Arbitrary slice: [[[1.]\n",
      "  [2.]\n",
      "  [3.]]\n",
      "\n",
      " [[2.]\n",
      "  [3.]\n",
      "  [4.]]\n",
      "\n",
      " [[3.]\n",
      "  [4.]\n",
      "  [5.]]]\n"
     ]
    }
   ],
   "source": [
    "lookback_length = 2\n",
    "\n",
    "lb_window = contexts.lookback(lookback_length)\n",
    "lf_window = contexts.lookforward(lookback_length)\n",
    "shifted_lb_window = contexts.lookback(lookback_length, slide_by=2)\n",
    "\n",
    "slice_obj = slice(1, 4, 1) # (start, stop, step) \n",
    "context_slice = contexts.slice(slice_obj)\n",
    "\n",
    "\n",
    "print(f\"Lookback window: {lb_window}\")\n",
    "print(f\"Lookforward window: {lf_window}\")\n",
    "print(f\"Shifted lookback window: {shifted_lb_window}\") \n",
    "print(f\"Arbitrary slice: {context_slice}\")"
   ]
  }
 ],
 "metadata": {
  "kernelspec": {
   "display_name": "kooplearn",
   "language": "python",
   "name": "python3"
  },
  "language_info": {
   "codemirror_mode": {
    "name": "ipython",
    "version": 3
   },
   "file_extension": ".py",
   "mimetype": "text/x-python",
   "name": "python",
   "nbconvert_exporter": "python",
   "pygments_lexer": "ipython3",
   "version": "3.11.4"
  }
 },
 "nbformat": 4,
 "nbformat_minor": 2
}
