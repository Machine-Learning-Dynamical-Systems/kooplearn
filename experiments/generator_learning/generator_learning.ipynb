{
 "cells": [
  {
   "cell_type": "code",
   "execution_count": 1,
   "metadata": {},
   "outputs": [],
   "source": [
    "import numpy as np\n",
    "import jax.numpy as jnp\n",
    "import jax\n",
    "import sympy.abc\n",
    "from sympy import fps, ln\n",
    "import matplotlib.pyplot as plt\n",
    "\n",
    "import sys\n",
    "sys.path.append(\"../../\")\n",
    "from kooplearn.estimators import ReducedRank\n",
    "from kooplearn.kernels import Linear\n",
    "\n",
    "#Dummy variables to test\n",
    "key = jax.random.PRNGKey(0)\n",
    "\n",
    "NUM_SAMPLES = 1_000\n",
    "NUM_FEATURES = 50\n",
    "\n",
    "dummy_traj = jax.random.uniform(key, (NUM_SAMPLES, NUM_FEATURES))"
   ]
  },
  {
   "cell_type": "code",
   "execution_count": 7,
   "metadata": {},
   "outputs": [],
   "source": [
    "def ln_series_coefficients(truncation_order: int, ascending: bool = True) -> jnp.ndarray:\n",
    "    #Minimum trucation order is 1, i.e. constant + linear expansion\n",
    "    poly = fps(ln(sympy.abc.T), x0=1).polynomial(n=truncation_order + 1).as_poly()\n",
    "    coeffs =  jnp.array(poly.all_coeffs(), dtype=float)\n",
    "    if ascending:\n",
    "        return jnp.flip(coeffs)\n",
    "    else:\n",
    "        return coeffs\n",
    "\n",
    "def cross_covariance_series(traj: jnp.ndarray, truncation_order: int) -> jnp.ndarray:\n",
    "    #Minimum trucation order is 1, i.e. constant + linear expansion\n",
    "    def cross_covariance(traj: jnp.ndarray, order: int, truncation_order: int) -> jnp.ndarray:\n",
    "        max_idx = traj.shape[0] - 1\n",
    "        N = max_idx//truncation_order\n",
    "        base_ids = jnp.arange(N, dtype=int)*truncation_order #Replace this with a for loop!!!\n",
    "        return (traj[base_ids].T)@traj[base_ids + order]\n",
    "    _cc = jax.vmap(cross_covariance, in_axes=(None, 0, None))\n",
    "    orders = jnp.arange(truncation_order + 1, dtype=int)\n",
    "    return _cc(traj, orders, truncation_order)"
   ]
  },
  {
   "cell_type": "code",
   "execution_count": 8,
   "metadata": {},
   "outputs": [],
   "source": [
    "max_order = 4\n",
    "coeffs = ln_series_coefficients(max_order)\n",
    "T = cross_covariance_series(dummy_traj, max_order)"
   ]
  },
  {
   "cell_type": "markdown",
   "metadata": {},
   "source": [
    "### Experiment on alanine dipeptide"
   ]
  },
  {
   "cell_type": "code",
   "execution_count": 73,
   "metadata": {},
   "outputs": [],
   "source": [
    "#To download these files, run \"python get_dataset.py\"\n",
    "files = [\n",
    "    \"alanine-dipeptide-3x250ns-backbone-dihedrals.npz\",\n",
    "    \"alanine-dipeptide-3x250ns-heavy-atom-distances.npz\",\n",
    "]\n",
    "#Load the data on memory. The .npz files are comprised of three independent simulations ['arr_0', 'arr_1', 'arr_2']. Either of them can be used to train the model.\n",
    "dihedrals = np.load(\"../../examples/alanine_dipeptide/data/\" + files[0])['arr_2'] #Dihedral angles \\phi and \\psi\n",
    "distances = np.load(\"../../examples/alanine_dipeptide/data/\" + files[1])['arr_2'] #Distance between heavy atoms"
   ]
  }
 ],
 "metadata": {
  "kernelspec": {
   "display_name": "base",
   "language": "python",
   "name": "python3"
  },
  "language_info": {
   "codemirror_mode": {
    "name": "ipython",
    "version": 3
   },
   "file_extension": ".py",
   "mimetype": "text/x-python",
   "name": "python",
   "nbconvert_exporter": "python",
   "pygments_lexer": "ipython3",
   "version": "3.9.7 (default, Sep 16 2021, 13:09:58) \n[GCC 7.5.0]"
  },
  "orig_nbformat": 4,
  "vscode": {
   "interpreter": {
    "hash": "237a184721ccde86ff8290b36768bdbffa305b80665e86389e41b56c4800747d"
   }
  }
 },
 "nbformat": 4,
 "nbformat_minor": 2
}
