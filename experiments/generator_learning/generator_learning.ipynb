{
 "cells": [
  {
   "cell_type": "markdown",
   "metadata": {},
   "source": [
    "##### General Imports"
   ]
  },
  {
   "cell_type": "code",
   "execution_count": 1,
   "metadata": {},
   "outputs": [],
   "source": [
    "#Custom functions\n",
    "from training import TrainingState, loss, update, feature_map, optimiser\n",
    "from data import TimeLaggedDataset, collate_fn\n",
    "\n",
    "#JAX\n",
    "import jax.numpy as jnp\n",
    "import jax\n",
    "import haiku as hk\n",
    "\n",
    "#MISC\n",
    "from torch.utils.data import DataLoader\n",
    "\n",
    "#Standard library\n",
    "import json"
   ]
  },
  {
   "cell_type": "markdown",
   "metadata": {},
   "source": [
    "##### Experiment on __alanine dipeptide__"
   ]
  },
  {
   "cell_type": "code",
   "execution_count": 2,
   "metadata": {},
   "outputs": [],
   "source": [
    "with open('config.json') as f:\n",
    "    CONFIG = json.load(f)\n",
    "    \n",
    "#To download these files, run \"python get_dataset.py\"\n",
    "files = [\n",
    "    \"alanine-dipeptide-3x250ns-backbone-dihedrals.npz\",\n",
    "    \"alanine-dipeptide-3x250ns-heavy-atom-distances.npz\",\n",
    "]\n",
    "#Load the data on memory. The .npz files are comprised of three independent simulations ['arr_0', 'arr_1', 'arr_2']. Either of them can be used to train the model.\n",
    "dihedrals = jnp.load(\"../../examples/alanine_dipeptide/data/\" + files[0])['arr_2'] #Dihedral angles \\phi and \\psi\n",
    "distances = jnp.load(\"../../examples/alanine_dipeptide/data/\" + files[1])['arr_2'] #Distance between heavy atoms"
   ]
  },
  {
   "cell_type": "code",
   "execution_count": 3,
   "metadata": {},
   "outputs": [],
   "source": [
    "#Init the network\n",
    "initial_params = feature_map.init(jax.random.PRNGKey(seed=42), distances[0])\n",
    "initial_opt_state = optimiser.init(initial_params)\n",
    "state = TrainingState(initial_params, initial_params, initial_opt_state)"
   ]
  },
  {
   "cell_type": "code",
   "execution_count": 4,
   "metadata": {},
   "outputs": [
    {
     "name": "stdout",
     "output_type": "stream",
     "text": [
      "+-----------------------------+--------------------------------------------------------------+-----------------+----------+----------+---------------+---------------+\n",
      "| Module                      | Config                                                       | Module params   | Input    | Output   |   Param count |   Param bytes |\n",
      "+=============================+==============================================================+=================+==========+==========+===============+===============+\n",
      "| VAMPnet (MLP)               | MLP(output_sizes=[64, 128, 128, 64, 64, 32], name='VAMPnet') |                 | f32[45]  | f32[32]  |        42,272 |     169.09 KB |\n",
      "+-----------------------------+--------------------------------------------------------------+-----------------+----------+----------+---------------+---------------+\n",
      "| VAMPnet/~/linear_0 (Linear) | Linear(output_size=64, name='linear_0')                      | w: f32[45,64]   | f32[45]  | f32[64]  |         2,944 |      11.78 KB |\n",
      "|  └ VAMPnet (MLP)            |                                                              | b: f32[64]      |          |          |               |               |\n",
      "+-----------------------------+--------------------------------------------------------------+-----------------+----------+----------+---------------+---------------+\n",
      "| VAMPnet/~/linear_1 (Linear) | Linear(output_size=128, name='linear_1')                     | w: f32[64,128]  | f32[64]  | f32[128] |         8,320 |      33.28 KB |\n",
      "|  └ VAMPnet (MLP)            |                                                              | b: f32[128]     |          |          |               |               |\n",
      "+-----------------------------+--------------------------------------------------------------+-----------------+----------+----------+---------------+---------------+\n",
      "| VAMPnet/~/linear_2 (Linear) | Linear(output_size=128, name='linear_2')                     | w: f32[128,128] | f32[128] | f32[128] |        16,512 |      66.05 KB |\n",
      "|  └ VAMPnet (MLP)            |                                                              | b: f32[128]     |          |          |               |               |\n",
      "+-----------------------------+--------------------------------------------------------------+-----------------+----------+----------+---------------+---------------+\n",
      "| VAMPnet/~/linear_3 (Linear) | Linear(output_size=64, name='linear_3')                      | w: f32[128,64]  | f32[128] | f32[64]  |         8,256 |      33.02 KB |\n",
      "|  └ VAMPnet (MLP)            |                                                              | b: f32[64]      |          |          |               |               |\n",
      "+-----------------------------+--------------------------------------------------------------+-----------------+----------+----------+---------------+---------------+\n",
      "| VAMPnet/~/linear_4 (Linear) | Linear(output_size=64, name='linear_4')                      | w: f32[64,64]   | f32[64]  | f32[64]  |         4,160 |      16.64 KB |\n",
      "|  └ VAMPnet (MLP)            |                                                              | b: f32[64]      |          |          |               |               |\n",
      "+-----------------------------+--------------------------------------------------------------+-----------------+----------+----------+---------------+---------------+\n",
      "| VAMPnet/~/linear_5 (Linear) | Linear(output_size=32, name='linear_5')                      | w: f32[64,32]   | f32[64]  | f32[32]  |         2,080 |       8.32 KB |\n",
      "|  └ VAMPnet (MLP)            |                                                              | b: f32[32]      |          |          |               |               |\n",
      "+-----------------------------+--------------------------------------------------------------+-----------------+----------+----------+---------------+---------------+\n"
     ]
    }
   ],
   "source": [
    "#VIZ\n",
    "print(hk.experimental.tabulate(feature_map)(distances[0]))"
   ]
  },
  {
   "cell_type": "code",
   "execution_count": 5,
   "metadata": {},
   "outputs": [],
   "source": [
    "dataset = TimeLaggedDataset(distances, max_lag = 50)\n",
    "dataloader = DataLoader(dataset, collate_fn=collate_fn, batch_size = CONFIG['training']['batch_size'])"
   ]
  },
  {
   "cell_type": "code",
   "execution_count": 6,
   "metadata": {},
   "outputs": [
    {
     "ename": "NotImplementedError",
     "evalue": "Only the b=None case of eigh is implemented",
     "output_type": "error",
     "traceback": [
      "\u001b[0;31m---------------------------------------------------------------------------\u001b[0m",
      "\u001b[0;31mNotImplementedError\u001b[0m                       Traceback (most recent call last)",
      "\u001b[1;32m/Users/pietronovelli/Library/CloudStorage/GoogleDrive-pietronvll@gmail.com/My Drive/Code Repos/kooplearn_dev/experiments/generator_learning/generator_learning.ipynb Cell 8\u001b[0m in \u001b[0;36m<cell line: 2>\u001b[0;34m()\u001b[0m\n\u001b[1;32m      <a href='vscode-notebook-cell:/Users/pietronovelli/Library/CloudStorage/GoogleDrive-pietronvll%40gmail.com/My%20Drive/Code%20Repos/kooplearn_dev/experiments/generator_learning/generator_learning.ipynb#X63sZmlsZQ%3D%3D?line=1'>2</a>\u001b[0m \u001b[39mfor\u001b[39;00m _ \u001b[39min\u001b[39;00m \u001b[39mrange\u001b[39m(CONFIG[\u001b[39m'\u001b[39m\u001b[39mtraining\u001b[39m\u001b[39m'\u001b[39m][\u001b[39m'\u001b[39m\u001b[39mnum_epochs\u001b[39m\u001b[39m'\u001b[39m]):\n\u001b[1;32m      <a href='vscode-notebook-cell:/Users/pietronovelli/Library/CloudStorage/GoogleDrive-pietronvll%40gmail.com/My%20Drive/Code%20Repos/kooplearn_dev/experiments/generator_learning/generator_learning.ipynb#X63sZmlsZQ%3D%3D?line=2'>3</a>\u001b[0m     \u001b[39mfor\u001b[39;00m data_batch \u001b[39min\u001b[39;00m dataloader:\n\u001b[0;32m----> <a href='vscode-notebook-cell:/Users/pietronovelli/Library/CloudStorage/GoogleDrive-pietronvll%40gmail.com/My%20Drive/Code%20Repos/kooplearn_dev/experiments/generator_learning/generator_learning.ipynb#X63sZmlsZQ%3D%3D?line=3'>4</a>\u001b[0m         state \u001b[39m=\u001b[39m update(state, data_batch)\n\u001b[1;32m      <a href='vscode-notebook-cell:/Users/pietronovelli/Library/CloudStorage/GoogleDrive-pietronvll%40gmail.com/My%20Drive/Code%20Repos/kooplearn_dev/experiments/generator_learning/generator_learning.ipynb#X63sZmlsZQ%3D%3D?line=4'>5</a>\u001b[0m     \u001b[39mprint\u001b[39m(loss(state\u001b[39m.\u001b[39mparams, data_batch,CONFIG[\u001b[39m'\u001b[39m\u001b[39mopt\u001b[39m\u001b[39m'\u001b[39m][\u001b[39m'\u001b[39m\u001b[39mtikhonov_reg\u001b[39m\u001b[39m'\u001b[39m], CONFIG[\u001b[39m'\u001b[39m\u001b[39mopt\u001b[39m\u001b[39m'\u001b[39m][\u001b[39m'\u001b[39m\u001b[39mVAMP_order\u001b[39m\u001b[39m'\u001b[39m], CONFIG[\u001b[39m'\u001b[39m\u001b[39mopt\u001b[39m\u001b[39m'\u001b[39m][\u001b[39m'\u001b[39m\u001b[39mrank\u001b[39m\u001b[39m'\u001b[39m]))\n",
      "    \u001b[0;31m[... skipping hidden 11 frame]\u001b[0m\n",
      "File \u001b[0;32m~/Library/CloudStorage/GoogleDrive-pietronvll@gmail.com/My Drive/Code Repos/kooplearn_dev/experiments/generator_learning/training.py:85\u001b[0m, in \u001b[0;36mupdate\u001b[0;34m(state, data_batch)\u001b[0m\n\u001b[1;32m     82\u001b[0m \u001b[39m@jax\u001b[39m\u001b[39m.\u001b[39mjit\n\u001b[1;32m     83\u001b[0m \u001b[39mdef\u001b[39;00m \u001b[39mupdate\u001b[39m(state: TrainingState, data_batch: jnp\u001b[39m.\u001b[39mndarray) \u001b[39m-\u001b[39m\u001b[39m>\u001b[39m TrainingState:\n\u001b[1;32m     84\u001b[0m     \u001b[39m\"\"\"Learning rule (stochastic gradient descent).\"\"\"\u001b[39;00m\n\u001b[0;32m---> 85\u001b[0m     grads \u001b[39m=\u001b[39m jax\u001b[39m.\u001b[39;49mgrad(loss)(state\u001b[39m.\u001b[39;49mparams, data_batch, CONFIG[\u001b[39m'\u001b[39;49m\u001b[39mopt\u001b[39;49m\u001b[39m'\u001b[39;49m][\u001b[39m'\u001b[39;49m\u001b[39mtikhonov_reg\u001b[39;49m\u001b[39m'\u001b[39;49m], CONFIG[\u001b[39m'\u001b[39;49m\u001b[39mopt\u001b[39;49m\u001b[39m'\u001b[39;49m][\u001b[39m'\u001b[39;49m\u001b[39mVAMP_order\u001b[39;49m\u001b[39m'\u001b[39;49m], CONFIG[\u001b[39m'\u001b[39;49m\u001b[39mopt\u001b[39;49m\u001b[39m'\u001b[39;49m][\u001b[39m'\u001b[39;49m\u001b[39mrank\u001b[39;49m\u001b[39m'\u001b[39;49m])\n\u001b[1;32m     86\u001b[0m     updates, opt_state \u001b[39m=\u001b[39m optimiser\u001b[39m.\u001b[39mupdate(grads, state\u001b[39m.\u001b[39mopt_state)\n\u001b[1;32m     87\u001b[0m     params \u001b[39m=\u001b[39m optax\u001b[39m.\u001b[39mapply_updates(state\u001b[39m.\u001b[39mparams, updates)\n",
      "    \u001b[0;31m[... skipping hidden 10 frame]\u001b[0m\n",
      "File \u001b[0;32m~/Library/CloudStorage/GoogleDrive-pietronvll@gmail.com/My Drive/Code Repos/kooplearn_dev/experiments/generator_learning/training.py:74\u001b[0m, in \u001b[0;36mloss\u001b[0;34m(params, data, reg, p, rank)\u001b[0m\n\u001b[1;32m     72\u001b[0m order \u001b[39m=\u001b[39m data\u001b[39m.\u001b[39mshape[\u001b[39m1\u001b[39m] \u001b[39m-\u001b[39m \u001b[39m1\u001b[39m \n\u001b[1;32m     73\u001b[0m series_coeffs \u001b[39m=\u001b[39m ln_series_coefficients(order)\n\u001b[0;32m---> 74\u001b[0m svals \u001b[39m=\u001b[39m reduced_rank_GEP(params, data, series_coeffs, reg)\u001b[39m.\u001b[39msvals_sq\n\u001b[1;32m     75\u001b[0m svals_p \u001b[39m=\u001b[39m jax\u001b[39m.\u001b[39mlax\u001b[39m.\u001b[39mpow(svals, \u001b[39m0.5\u001b[39m\u001b[39m*\u001b[39mp)\n\u001b[1;32m     76\u001b[0m \u001b[39mif\u001b[39;00m rank \u001b[39m<\u001b[39m\u001b[39m=\u001b[39m \u001b[39m0\u001b[39m:\n",
      "File \u001b[0;32m~/Library/CloudStorage/GoogleDrive-pietronvll@gmail.com/My Drive/Code Repos/kooplearn_dev/experiments/generator_learning/training.py:62\u001b[0m, in \u001b[0;36mreduced_rank_GEP\u001b[0;34m(params, data, series_coeffs, reg)\u001b[0m\n\u001b[1;32m     60\u001b[0m cov \u001b[39m=\u001b[39m cov_data[\u001b[39m0\u001b[39m] \u001b[39m+\u001b[39m reg\u001b[39m*\u001b[39mjnp\u001b[39m.\u001b[39meye(cov_data\u001b[39m.\u001b[39mshape[\u001b[39m1\u001b[39m], dtype\u001b[39m=\u001b[39mcov_data\u001b[39m.\u001b[39mdtype)\n\u001b[1;32m     61\u001b[0m cross_cov \u001b[39m=\u001b[39m einsum(cov_data, series_coeffs, \u001b[39m\"\u001b[39m\u001b[39mi feats feats_lagged, i -> feats feats_lagged\u001b[39m\u001b[39m\"\u001b[39m)\n\u001b[0;32m---> 62\u001b[0m svals_sq, rvecs \u001b[39m=\u001b[39m jax\u001b[39m.\u001b[39;49mscipy\u001b[39m.\u001b[39;49mlinalg\u001b[39m.\u001b[39;49meigh(cross_cov\u001b[39m@\u001b[39;49m(cross_cov\u001b[39m.\u001b[39;49mT), cov)\n\u001b[1;32m     63\u001b[0m sort_perm \u001b[39m=\u001b[39m jnp\u001b[39m.\u001b[39mflip(jnp\u001b[39m.\u001b[39margsort(svals_sq))\n\u001b[1;32m     64\u001b[0m svals_sq \u001b[39m=\u001b[39m svals_sq[sort_perm]\n",
      "File \u001b[0;32m/usr/local/lib/python3.9/site-packages/jax/_src/scipy/linalg.py:194\u001b[0m, in \u001b[0;36meigh\u001b[0;34m(***failed resolving arguments***)\u001b[0m\n\u001b[1;32m    186\u001b[0m \u001b[39m@_wraps\u001b[39m(scipy\u001b[39m.\u001b[39mlinalg\u001b[39m.\u001b[39meigh,\n\u001b[1;32m    187\u001b[0m         lax_description\u001b[39m=\u001b[39m_no_overwrite_and_chkfinite_doc,\n\u001b[1;32m    188\u001b[0m         skip_params\u001b[39m=\u001b[39m(\u001b[39m'\u001b[39m\u001b[39moverwrite_a\u001b[39m\u001b[39m'\u001b[39m, \u001b[39m'\u001b[39m\u001b[39moverwrite_b\u001b[39m\u001b[39m'\u001b[39m, \u001b[39m'\u001b[39m\u001b[39mturbo\u001b[39m\u001b[39m'\u001b[39m, \u001b[39m'\u001b[39m\u001b[39mcheck_finite\u001b[39m\u001b[39m'\u001b[39m))\n\u001b[0;32m   (...)\u001b[0m\n\u001b[1;32m    191\u001b[0m          overwrite_b: \u001b[39mbool\u001b[39m \u001b[39m=\u001b[39m \u001b[39mFalse\u001b[39;00m, turbo: \u001b[39mbool\u001b[39m \u001b[39m=\u001b[39m \u001b[39mTrue\u001b[39;00m, eigvals: \u001b[39mNone\u001b[39;00m \u001b[39m=\u001b[39m \u001b[39mNone\u001b[39;00m,\n\u001b[1;32m    192\u001b[0m          \u001b[39mtype\u001b[39m: \u001b[39mint\u001b[39m \u001b[39m=\u001b[39m \u001b[39m1\u001b[39m, check_finite: \u001b[39mbool\u001b[39m \u001b[39m=\u001b[39m \u001b[39mTrue\u001b[39;00m) \u001b[39m-\u001b[39m\u001b[39m>\u001b[39m Union[Array, Tuple[Array, Array]]:\n\u001b[1;32m    193\u001b[0m   \u001b[39mdel\u001b[39;00m overwrite_a, overwrite_b, turbo, check_finite  \u001b[39m# unused\u001b[39;00m\n\u001b[0;32m--> 194\u001b[0m   \u001b[39mreturn\u001b[39;00m _eigh(a, b, lower, eigvals_only, eigvals, \u001b[39mtype\u001b[39;49m)\n",
      "    \u001b[0;31m[... skipping hidden 9 frame]\u001b[0m\n",
      "File \u001b[0;32m/usr/local/lib/python3.9/site-packages/jax/_src/scipy/linalg.py:147\u001b[0m, in \u001b[0;36m_eigh\u001b[0;34m(a, b, lower, eigvals_only, eigvals, type)\u001b[0m\n\u001b[1;32m    143\u001b[0m \u001b[39m@partial\u001b[39m(jit, static_argnames\u001b[39m=\u001b[39m(\u001b[39m'\u001b[39m\u001b[39mlower\u001b[39m\u001b[39m'\u001b[39m, \u001b[39m'\u001b[39m\u001b[39meigvals_only\u001b[39m\u001b[39m'\u001b[39m, \u001b[39m'\u001b[39m\u001b[39meigvals\u001b[39m\u001b[39m'\u001b[39m, \u001b[39m'\u001b[39m\u001b[39mtype\u001b[39m\u001b[39m'\u001b[39m))\n\u001b[1;32m    144\u001b[0m \u001b[39mdef\u001b[39;00m \u001b[39m_eigh\u001b[39m(a: ArrayLike, b: Optional[ArrayLike], lower: \u001b[39mbool\u001b[39m, eigvals_only: \u001b[39mbool\u001b[39m,\n\u001b[1;32m    145\u001b[0m           eigvals: \u001b[39mNone\u001b[39;00m, \u001b[39mtype\u001b[39m: \u001b[39mint\u001b[39m) \u001b[39m-\u001b[39m\u001b[39m>\u001b[39m Union[Array, Tuple[Array, Array]]:\n\u001b[1;32m    146\u001b[0m   \u001b[39mif\u001b[39;00m b \u001b[39mis\u001b[39;00m \u001b[39mnot\u001b[39;00m \u001b[39mNone\u001b[39;00m:\n\u001b[0;32m--> 147\u001b[0m     \u001b[39mraise\u001b[39;00m \u001b[39mNotImplementedError\u001b[39;00m(\u001b[39m\"\u001b[39m\u001b[39mOnly the b=None case of eigh is implemented\u001b[39m\u001b[39m\"\u001b[39m)\n\u001b[1;32m    148\u001b[0m   \u001b[39mif\u001b[39;00m \u001b[39mtype\u001b[39m \u001b[39m!=\u001b[39m \u001b[39m1\u001b[39m:\n\u001b[1;32m    149\u001b[0m     \u001b[39mraise\u001b[39;00m \u001b[39mNotImplementedError\u001b[39;00m(\u001b[39m\"\u001b[39m\u001b[39mOnly the type=1 case of eigh is implemented.\u001b[39m\u001b[39m\"\u001b[39m)\n",
      "\u001b[0;31mNotImplementedError\u001b[0m: Only the b=None case of eigh is implemented"
     ]
    }
   ],
   "source": [
    "# Training & evaluation loop.\n",
    "for _ in range(CONFIG['training']['num_epochs']):\n",
    "    for data_batch in dataloader:\n",
    "        state = update(state, data_batch)\n",
    "    print(loss(state.params, data_batch,CONFIG['opt']['tikhonov_reg'], CONFIG['opt']['VAMP_order'], CONFIG['opt']['rank']))"
   ]
  },
  {
   "cell_type": "code",
   "execution_count": null,
   "metadata": {},
   "outputs": [],
   "source": []
  }
 ],
 "metadata": {
  "kernelspec": {
   "display_name": "Python 3.9.12 64-bit",
   "language": "python",
   "name": "python3"
  },
  "language_info": {
   "codemirror_mode": {
    "name": "ipython",
    "version": 3
   },
   "file_extension": ".py",
   "mimetype": "text/x-python",
   "name": "python",
   "nbconvert_exporter": "python",
   "pygments_lexer": "ipython3",
   "version": "3.9.12"
  },
  "orig_nbformat": 4,
  "vscode": {
   "interpreter": {
    "hash": "aee8b7b246df8f9039afb4144a1f6fd8d2ca17a180786b69acc140d282b71a49"
   }
  }
 },
 "nbformat": 4,
 "nbformat_minor": 2
}
